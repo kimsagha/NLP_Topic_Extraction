{
 "cells": [
  {
   "cell_type": "markdown",
   "metadata": {},
   "source": [
    "# NLP Project\n",
    "## Topic extraction\n",
    "The purpose of this project is to extract topics from news articles."
   ]
  },
  {
   "cell_type": "markdown",
   "metadata": {},
   "source": [
    "### Step-by-step Process\n",
    "1. Find a suitable NLP model to use for topic extraction: RAKE\n",
    "2. Preprocess the data\n",
    "3. Get results\n",
    "4. Documentation"
   ]
  },
  {
   "cell_type": "code",
   "execution_count": 1,
   "metadata": {},
   "outputs": [],
   "source": [
    "# import dependencies\n",
    "import pandas as pd\n",
    "from gensim.parsing.preprocessing import preprocess_string\n",
    "from gensim.parsing.preprocessing import strip_tags, strip_punctuation, strip_multiple_whitespaces, strip_numeric, remove_stopwords, strip_short, stem_text\n",
    "import gensim  # necessary?\n",
    "from gensim import corpora\n",
    "import spacy\n",
    "from rake_nltk import Rake\n",
    "import nltk\n",
    "import warnings\n",
    "warnings.filterwarnings('ignore')"
   ]
  },
  {
   "cell_type": "markdown",
   "metadata": {},
   "source": [
    "### Data Pre-processing"
   ]
  },
  {
   "cell_type": "code",
   "execution_count": 2,
   "metadata": {},
   "outputs": [
    {
     "name": "stdout",
     "output_type": "stream",
     "text": [
      "\n",
      "Data set, shape: (50000, 1)\n",
      "content    0\n",
      "dtype: int64\n",
      "                                             content\n",
      "0  WASHINGTON  —   Congressional Republicans have...\n",
      "1  After the bullet shells get counted, the blood...\n",
      "2  When Walt Disney’s “Bambi” opened in 1942, cri...\n",
      "3  Death may be the great equalizer, but it isn’t...\n",
      "4  SEOUL, South Korea  —   North Korea’s leader, ...\n",
      "5  LONDON  —   Queen Elizabeth II, who has been b...\n",
      "6  BEIJING  —   President Tsai   of Taiwan sharpl...\n",
      "7  Danny Cahill stood, slightly dazed, in a blizz...\n",
      "8  Just how   is Hillary Kerr, the    founder of ...\n",
      "9  Angels are everywhere in the Muñiz family’s ap...\n"
     ]
    }
   ],
   "source": [
    "# read in data\n",
    "df = pd.read_csv('Data/articles1.csv')['content'].to_frame()\n",
    "# df.drop(df.index[0:49999],0,inplace=True)  # drop a few rows to make dataset smaller and more manageable\n",
    "print('\\nData set, shape:', df.shape)\n",
    "\n",
    "# check for missing data\n",
    "print(df.isna().sum())  # shows no null values in content-column\n",
    "\n",
    "# pd.set_option('display.max_colwidth', None)\n",
    "print(df.head(10))"
   ]
  },
  {
   "cell_type": "markdown",
   "metadata": {},
   "source": [
    "### Pre-process the Data"
   ]
  },
  {
   "cell_type": "code",
   "execution_count": 3,
   "metadata": {},
   "outputs": [],
   "source": [
    "# load spacy nlp pre-processing pipeline to use for lemmatization\n",
    "nlp = spacy.load('en_core_web_sm')"
   ]
  },
  {
   "cell_type": "code",
   "execution_count": 4,
   "metadata": {},
   "outputs": [],
   "source": [
    "# create filter for gensim nlp pre-processing pipeline to include all steps except stemmatization\n",
    "CUSTOM_FILTERS = [lambda x: x.lower(),  # lowercase\n",
    "                  strip_tags,\n",
    "                  strip_punctuation,  # replace punctuation with whitespace\n",
    "                  strip_multiple_whitespaces,  # remove repeating whitespaces\n",
    "                  strip_numeric,  # remove numbers\n",
    "                  remove_stopwords,  # remove stopwords\n",
    "                  strip_short,  # remove words with less than 3 characters\n",
    "                  #  stem_text  # return porter-stemmed text,\n",
    "                 ]"
   ]
  },
  {
   "cell_type": "code",
   "execution_count": 5,
   "metadata": {},
   "outputs": [
    {
     "name": "stdout",
     "output_type": "stream",
     "text": [
      "Hello, my name is something you'll never guess, Kim! ...But I wrote my signature. Right! My parents called me this, what can I say?\n"
     ]
    }
   ],
   "source": [
    "sample = \"Hello, my name is something you'll never guess, Kim! ...But I wrote my signature. Right! My parents called me this, what can I say?\"\n",
    "print(sample)"
   ]
  },
  {
   "cell_type": "code",
   "execution_count": 6,
   "metadata": {},
   "outputs": [
    {
     "name": "stdout",
     "output_type": "stream",
     "text": [
      "['hello', 'guess', 'kim', 'wrote', 'signatur', 'right', 'parent', 'call']\n"
     ]
    }
   ],
   "source": [
    "# test sample string without filtered pipeline, i.e., with stemmatizer\n",
    "test_a = preprocess_string(sample)\n",
    "print(test_a)"
   ]
  },
  {
   "cell_type": "code",
   "execution_count": 7,
   "metadata": {},
   "outputs": [
    {
     "name": "stdout",
     "output_type": "stream",
     "text": [
      "['hello', 'guess', 'kim', 'write', 'signature', 'right', 'parent', 'call']\n"
     ]
    }
   ],
   "source": [
    "# test sample string with filtered pipeline and lemmatizer\n",
    "test_b = ' '.join(preprocess_string(sample, CUSTOM_FILTERS))  # pre-process without stemmatizing\n",
    "lem = [token.lemma_ for token in nlp(test_b)]  # lemmatize\n",
    "print(lem)"
   ]
  },
  {
   "cell_type": "code",
   "execution_count": 8,
   "metadata": {},
   "outputs": [],
   "source": [
    "def preprocess_articles(x):\n",
    "    prep = ' '.join(preprocess_string(x, CUSTOM_FILTERS))\n",
    "    return [token.lemma_ for token in nlp(prep)]"
   ]
  },
  {
   "cell_type": "code",
   "execution_count": 9,
   "metadata": {},
   "outputs": [],
   "source": [
    "# apply final pipeline to all data\n",
    "df['preprocessed'] = df['content'].apply(preprocess_articles)"
   ]
  },
  {
   "cell_type": "code",
   "execution_count": 10,
   "metadata": {},
   "outputs": [
    {
     "name": "stdout",
     "output_type": "stream",
     "text": [
      "0    [washington, congressional, republicans, new, ...\n",
      "Name: preprocessed, dtype: object\n"
     ]
    }
   ],
   "source": [
    "# print head of preprocessed df\n",
    "print(df['preprocessed'].head(1))"
   ]
  },
  {
   "cell_type": "code",
   "execution_count": 11,
   "metadata": {},
   "outputs": [],
   "source": [
    "# nltk.download('stopwords')\n",
    "r = Rake()"
   ]
  },
  {
   "cell_type": "code",
   "execution_count": 18,
   "metadata": {},
   "outputs": [
    {
     "data": {
      "text/plain": [
       "[(22.25, 'comment ,” said phillip j'),\n",
       " (18.67857142857143, 'disputed subsidies could conceivably cause'),\n",
       " (18.677777777777777, 'house republicans last month told'),\n",
       " (17.28846153846154, 'incoming trump administration could choose'),\n",
       " (16.0, 'despite widespread internal skepticism'),\n",
       " (15.25, 'many legal experts said'),\n",
       " (15.25, 'eligible consumers could race'),\n",
       " (14.733333333333334, 'republicans gain full control'),\n",
       " (14.5, '“ upon taking office'),\n",
       " (14.03409090909091, 'health care systems generally'),\n",
       " (14.0, 'trump era might come'),\n",
       " (13.538461538461538, 'trump administration may come'),\n",
       " (13.2, '” republican leadership officials'),\n",
       " (13.0, 'required — even though'),\n",
       " (12.8, 'preserving executive branch prerogatives'),\n",
       " (12.733333333333334, 'washington — congressional republicans'),\n",
       " (12.7, '“ cascading effects ”'),\n",
       " (12.538461538461538, 'administration initially sought one'),\n",
       " (11.13409090909091, 'obama health care law'),\n",
       " (9.125, 'affordable care act'),\n",
       " (9.0, 'trump transition effort'),\n",
       " (9.0, 'restore congressional leverage'),\n",
       " (9.0, 'produce devastating consequences'),\n",
       " (9.0, 'pending litigation involves'),\n",
       " (9.0, 'least late february'),\n",
       " (9.0, 'discussing potential options'),\n",
       " (9.0, 'appropriating huge sums'),\n",
       " (9.0, 'angering conservative voters'),\n",
       " (8.983333333333334, 'republicans could find'),\n",
       " (8.86111111111111, 'white house said'),\n",
       " (8.733333333333334, 'republicans never anticipated'),\n",
       " (8.700757575757576, 'health care program'),\n",
       " (8.700757575757576, 'health care program'),\n",
       " (8.678571428571429, 'subsidies could destabilize'),\n",
       " (8.538461538461538, 'trump administration might'),\n",
       " (8.53409090909091, 'health care law'),\n",
       " (8.5, 'ugly political pileup'),\n",
       " (8.5, 'two overarching concepts'),\n",
       " (8.5, 'quick legal victory'),\n",
       " (8.5, 'people without access'),\n",
       " (8.444444444444445, 'house committee reports'),\n",
       " (8.333333333333334, 'trump transition team'),\n",
       " (8.333333333333334, 'transition team currently'),\n",
       " (8.333333333333332, 'judge collyer found'),\n",
       " (8.194444444444445, 'house lawyers said'),\n",
       " (8.177777777777777, 'house republicans say'),\n",
       " (8.177777777777777, 'house republicans contend'),\n",
       " (8.177777777777777, 'handing house republicans'),\n",
       " (8.03409090909091, 'health care lawsuit'),\n",
       " (8.0, 'united states court'),\n",
       " (8.0, 'drop coverage since'),\n",
       " (7.7376623376623375, 'health insurance subsidies'),\n",
       " (7.7376623376623375, 'health insurance subsidies'),\n",
       " (7.711111111111111, 'obama white house'),\n",
       " (7.677777777777778, 'house republicans given'),\n",
       " (7.538461538461538, 'future administration time'),\n",
       " (7.4, 'congress never appropriated'),\n",
       " (7.0476190476190474, 'judge collyer ’'),\n",
       " (6.75, 'could choose'),\n",
       " (6.5, 'month sought'),\n",
       " (6.034090909090909, 'health care'),\n",
       " (5.538461538461538, 'trump administration'),\n",
       " (5.5, 'donald j'),\n",
       " (5.309090909090909, 'health insurance'),\n",
       " (5.309090909090909, 'health insurance'),\n",
       " (5.25, 'precedents could'),\n",
       " (5.25, 'could lead'),\n",
       " (5.177777777777778, 'house republicans'),\n",
       " (5.177777777777778, 'house republicans'),\n",
       " (5.177777777777778, 'house republicans'),\n",
       " (5.138461538461538, 'obama administration'),\n",
       " (5.138461538461538, 'obama administration'),\n",
       " (5.138461538461538, 'obama administration'),\n",
       " (5.111111111111111, 'white house'),\n",
       " (5.0, '“ given'),\n",
       " (5.0, 'republican allies'),\n",
       " (5.0, 'might win'),\n",
       " (5.0, 'issue —'),\n",
       " (5.0, 'initially championed'),\n",
       " (5.0, 'flawed —'),\n",
       " (5.0, 'congressional power'),\n",
       " (4.8, 'executive branch'),\n",
       " (4.8, 'executive branch'),\n",
       " (4.8, 'executive branch'),\n",
       " (4.8, 'executive branch'),\n",
       " (4.733333333333333, 'republicans asserted'),\n",
       " (4.714285714285714, 'trump ’'),\n",
       " (4.666666666666666, 'judge rosemary'),\n",
       " (4.666666666666666, 'entire program'),\n",
       " (4.666666666666666, 'collyer ruled'),\n",
       " (4.538461538461538, 'new administration'),\n",
       " (4.5, 'without approval'),\n",
       " (4.5, 'two participants'),\n",
       " (4.5, 'quick exit'),\n",
       " (4.5, 'political backlash'),\n",
       " (4.5, 'law passed'),\n",
       " (4.5, 'big victory'),\n",
       " (4.444444444444445, 'house speaker'),\n",
       " (4.444444444444445, 'house acknowledge'),\n",
       " (4.4, 'insurance market'),\n",
       " (4.252747252747253, 'administration ’'),\n",
       " (4.0, '“ provide'),\n",
       " (4.0, 'yet ready'),\n",
       " (4.0, 'treasury department'),\n",
       " (4.0, 'temporary halt'),\n",
       " (4.0, 'temporarily prop'),\n",
       " (4.0, 'take effect'),\n",
       " (4.0, 'suddenly stopped'),\n",
       " (4.0, 'successfully seeking'),\n",
       " (4.0, 'spend billions'),\n",
       " (4.0, 'shared views'),\n",
       " (4.0, 'related aspects'),\n",
       " (4.0, 'quickly appealed'),\n",
       " (4.0, 'potentially decision'),\n",
       " (4.0, 'permanent part'),\n",
       " (4.0, 'otherwise resolve'),\n",
       " (4.0, 'new fear'),\n",
       " (4.0, 'longer defend'),\n",
       " (4.0, 'leaving millions'),\n",
       " (4.0, 'lawyers predicted'),\n",
       " (4.0, 'justice department'),\n",
       " (4.0, 'dynamics illustrating'),\n",
       " (4.0, 'dim view'),\n",
       " (4.0, 'continue prosecuting'),\n",
       " (4.0, 'consider whether'),\n",
       " (4.0, 'columbia circuit'),\n",
       " (4.0, 'central questions'),\n",
       " (4.0, 'capitol hill'),\n",
       " (4.0, 'broad repercussions'),\n",
       " (4.0, 'awkward position'),\n",
       " (4.0, 'another twist'),\n",
       " (4.0, 'annual appropriation'),\n",
       " (4.0, '13 billion'),\n",
       " (3.75, 'case “'),\n",
       " (3.7142857142857144, 'nation ’'),\n",
       " (3.6, 'spending power'),\n",
       " (3.6, 'spending power'),\n",
       " (3.5, 'sudden loss'),\n",
       " (3.5, 'presidential authority'),\n",
       " (3.5, 'paying costs'),\n",
       " (3.5, 'losing money'),\n",
       " (3.5, 'complicated set'),\n",
       " (3.333333333333333, 'vigorous fight'),\n",
       " (3.333333333333333, 'decision would'),\n",
       " (3.333333333333333, 'constitution regarding'),\n",
       " (3.1, 'spending dispute'),\n",
       " (3.0, 'trump'),\n",
       " (3.0, 'cause'),\n",
       " (2.7333333333333334, 'republicans'),\n",
       " (2.7333333333333334, 'republicans'),\n",
       " (2.5384615384615383, 'administration'),\n",
       " (2.5384615384615383, 'administration'),\n",
       " (2.5, '“'),\n",
       " (2.5, 'law'),\n",
       " (2.4444444444444446, 'house'),\n",
       " (2.4444444444444446, 'house'),\n",
       " (2.4444444444444446, 'house'),\n",
       " (2.4285714285714284, 'subsidies'),\n",
       " (2.4285714285714284, 'subsidies'),\n",
       " (2.4285714285714284, 'subsidies'),\n",
       " (2.3333333333333335, 'team'),\n",
       " (2.2, '”'),\n",
       " (2.2, '”'),\n",
       " (2.2, '”'),\n",
       " (2.0, 'time'),\n",
       " (2.0, 'since'),\n",
       " (2.0, 'required'),\n",
       " (2.0, 'required'),\n",
       " (2.0, 'lawyers'),\n",
       " (2.0, 'lawsuit'),\n",
       " (2.0, 'court'),\n",
       " (1.7142857142857142, '’'),\n",
       " (1.7142857142857142, '’'),\n",
       " (1.7142857142857142, '’'),\n",
       " (1.6, 'spending'),\n",
       " (1.6, 'spending'),\n",
       " (1.5, 'set'),\n",
       " (1.5, 'provide'),\n",
       " (1.5, 'money'),\n",
       " (1.5, 'loss'),\n",
       " (1.5, 'dispute'),\n",
       " (1.5, 'costs'),\n",
       " (1.5, 'authority'),\n",
       " (1.4, 'congress'),\n",
       " (1.4, 'congress'),\n",
       " (1.4, 'congress'),\n",
       " (1.4, 'congress'),\n",
       " (1.3333333333333333, 'would'),\n",
       " (1.3333333333333333, 'would'),\n",
       " (1.3333333333333333, 'fight'),\n",
       " (1.3333333333333333, 'fight'),\n",
       " (1.3333333333333333, 'constitution'),\n",
       " (1.3333333333333333, 'constitution'),\n",
       " (1.25, 'case'),\n",
       " (1.25, 'case'),\n",
       " (1.25, 'case'),\n",
       " (1.0, 'years'),\n",
       " (1.0, 'worried'),\n",
       " (1.0, 'well'),\n",
       " (1.0, 'well'),\n",
       " (1.0, 'want'),\n",
       " (1.0, 'want'),\n",
       " (1.0, 'violation'),\n",
       " (1.0, 'violates'),\n",
       " (1.0, 'totaled'),\n",
       " (1.0, 'took'),\n",
       " (1.0, 'suspension'),\n",
       " (1.0, 'suit'),\n",
       " (1.0, 'suit'),\n",
       " (1.0, 'sue'),\n",
       " (1.0, 'sue'),\n",
       " (1.0, 'sue'),\n",
       " (1.0, 'strategy'),\n",
       " (1.0, 'stave'),\n",
       " (1.0, 'standing'),\n",
       " (1.0, 'standing'),\n",
       " (1.0, 'standing'),\n",
       " (1.0, 'spur'),\n",
       " (1.0, 'spokesman'),\n",
       " (1.0, 'settle'),\n",
       " (1.0, 'seek'),\n",
       " (1.0, 'ruling'),\n",
       " (1.0, 'right'),\n",
       " (1.0, 'reversed'),\n",
       " (1.0, 'resolution'),\n",
       " (1.0, 'request'),\n",
       " (1.0, 'replacement'),\n",
       " (1.0, 'remained'),\n",
       " (1.0, 'reductions'),\n",
       " (1.0, 'receive'),\n",
       " (1.0, 'receive'),\n",
       " (1.0, 'put'),\n",
       " (1.0, 'purse'),\n",
       " (1.0, 'proper'),\n",
       " (1.0, 'proceedings'),\n",
       " (1.0, 'prevail'),\n",
       " (1.0, 'pressure'),\n",
       " (1.0, 'prepared'),\n",
       " (1.0, 'precedent'),\n",
       " (1.0, 'possibility'),\n",
       " (1.0, 'place'),\n",
       " (1.0, 'payments'),\n",
       " (1.0, 'outcome'),\n",
       " (1.0, 'mr'),\n",
       " (1.0, 'mount'),\n",
       " (1.0, 'matter'),\n",
       " (1.0, 'matter'),\n",
       " (1.0, 'matter'),\n",
       " (1.0, 'limbo'),\n",
       " (1.0, 'leads'),\n",
       " (1.0, 'later'),\n",
       " (1.0, 'lack'),\n",
       " (1.0, 'john'),\n",
       " (1.0, 'jan'),\n",
       " (1.0, 'issues'),\n",
       " (1.0, 'intervene'),\n",
       " (1.0, 'insurers'),\n",
       " (1.0, 'insurers'),\n",
       " (1.0, 'individuals'),\n",
       " (1.0, 'inclined'),\n",
       " (1.0, 'inauguration'),\n",
       " (1.0, 'inappropriate'),\n",
       " (1.0, 'important'),\n",
       " (1.0, 'implode'),\n",
       " (1.0, 'happens'),\n",
       " (1.0, 'handle'),\n",
       " (1.0, 'government'),\n",
       " (1.0, 'gaming'),\n",
       " (1.0, 'funding'),\n",
       " (1.0, 'exchange'),\n",
       " (1.0, 'evaluate'),\n",
       " (1.0, 'estimated'),\n",
       " (1.0, 'end'),\n",
       " (1.0, 'election'),\n",
       " (1.0, 'eager'),\n",
       " (1.0, 'dollars'),\n",
       " (1.0, 'divulge'),\n",
       " (1.0, 'district'),\n",
       " (1.0, 'distributing'),\n",
       " (1.0, 'dismiss'),\n",
       " (1.0, 'desperate'),\n",
       " (1.0, 'demanding'),\n",
       " (1.0, 'deductibles'),\n",
       " (1.0, 'deal'),\n",
       " (1.0, 'confident'),\n",
       " (1.0, 'confidence'),\n",
       " (1.0, 'comes'),\n",
       " (1.0, 'chaos'),\n",
       " (1.0, 'challenges'),\n",
       " (1.0, 'boehner'),\n",
       " (1.0, 'blando'),\n",
       " (1.0, 'behalf'),\n",
       " (1.0, 'avoid'),\n",
       " (1.0, 'appeals'),\n",
       " (1.0, 'appeal'),\n",
       " (1.0, 'appeal'),\n",
       " (1.0, 'anticipating'),\n",
       " (1.0, 'americans'),\n",
       " (1.0, 'advocates'),\n",
       " (1.0, '2017'),\n",
       " (1.0, '2015'),\n",
       " (1.0, '2010'),\n",
       " (1.0, '20')]"
      ]
     },
     "execution_count": 18,
     "metadata": {},
     "output_type": "execute_result"
    }
   ],
   "source": [
    "r.extract_keywords_from_text(df['content'].iloc[0])\n",
    "r.get_ranked_phrases_with_scores()"
   ]
  }
 ],
 "metadata": {
  "kernelspec": {
   "display_name": "Python 3",
   "language": "python",
   "name": "python3"
  },
  "language_info": {
   "codemirror_mode": {
    "name": "ipython",
    "version": 3
   },
   "file_extension": ".py",
   "mimetype": "text/x-python",
   "name": "python",
   "nbconvert_exporter": "python",
   "pygments_lexer": "ipython3",
   "version": "3.8.3"
  }
 },
 "nbformat": 4,
 "nbformat_minor": 4
}
