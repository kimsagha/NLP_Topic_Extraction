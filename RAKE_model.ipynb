{
 "cells": [
  {
   "cell_type": "markdown",
   "metadata": {},
   "source": [
    "# NLP Project\n",
    "## Topic extraction\n",
    "The purpose of this project is to extract topics from news articles."
   ]
  },
  {
   "cell_type": "markdown",
   "metadata": {},
   "source": [
    "### Step-by-step Process\n",
    "1. Find a suitable NLP model to use for topic extraction: RAKE (rapid automatic keyword extraction)\n",
    "2. Preprocess the data\n",
    "3. Get results\n",
    "4. Documentation"
   ]
  },
  {
   "cell_type": "code",
   "execution_count": 1,
   "metadata": {},
   "outputs": [],
   "source": [
    "# import dependencies\n",
    "import pandas as pd\n",
    "from gensim.parsing.preprocessing import preprocess_string\n",
    "from gensim.parsing.preprocessing import strip_tags, strip_punctuation, strip_multiple_whitespaces, strip_numeric, remove_stopwords, strip_short, stem_text\n",
    "import gensim  # necessary?\n",
    "from gensim import corpora\n",
    "import spacy\n",
    "# ! pip install rake-nltk\n",
    "from rake_nltk import Rake\n",
    "import nltk\n",
    "import warnings\n",
    "warnings.filterwarnings('ignore')"
   ]
  },
  {
   "cell_type": "markdown",
   "metadata": {},
   "source": [
    "### Data Pre-processing"
   ]
  },
  {
   "cell_type": "code",
   "execution_count": 2,
   "metadata": {},
   "outputs": [
    {
     "name": "stdout",
     "output_type": "stream",
     "text": [
      "\n",
      "Data set, shape: (1, 1)\n",
      "content    0\n",
      "dtype: int64\n",
      "                                                                                                                                                                                                                                                                                                                                                                                                                                                                                                                                                                                                                                                                                                                                                                                                                                                                                                                                                                                                                                                                                                                                                                                                                                                                                                                                                                                                                                                                                                                                                                                                                                                                                                                                                                                                                                                                                                                                                                                                                                                                                                                             content\n",
      "49999  The force of gravity can be described using a number of metaphors: It’s the glue that holds solar systems and galaxies together, the anchor that keeps us on the ground, the slingshot that sends spacecraft deeper into the solar system. And in some cases, gravity is a thief. Astronomers at the   Center for Astrophysics said Wednesday they have discovered that some of the most distant stars in the Milky Way galaxy actually came the Sagittarius dwarf galaxy, one of the dozens of smaller galaxies surrounding ours. When Sagittarius passed by, the Milky Way’s gravitational tides pulled on the galaxy, and made off with five stars. The five interlopers are among the farthest known stars in the Milky Way, located in a stretch of stars outside the galaxy’s spiral disk. Astronomers determined their origin using computer simulations. They simulated the movements of the Sagittarius and Milky Way galaxies over the course of 8 billion years. The test showed that over time, Sagittarius lost about   of its stars. The stars, the scientists say, were whisked away by the Milky Way and settled into streams at the galaxy’s edge. The observed position and velocities of the stolen stars also suggests they came from Sagittarius, they say. This kind of cosmic theft may be common in the universe, particularly in neighborhoods of closely orbiting galaxies. In 2011, scientists using a   telescope in Chile to study the Large Magellanic Cloud, another satellite galaxy of the Milky Way, discovered that more than 5 percent of the stars inside the cloud were spinning in the wrong direction. What’s more, their chemical composition, particularly the ratios of elements like iron and calcium, didn’t match that of other stars inside the cloud. Instead, they looked a lot like stars in the Small Magellanic Cloud, its sister galaxy. The stars inside the larger galaxy, they concluded, must have been torn away, thanks to gravitational tides. Galaxies were once considered “island universes,” but maybe, just like humans, “no galaxy is an island” after all.\n"
     ]
    }
   ],
   "source": [
    "# Large dataset model:\n",
    "# from sklearn.model_selection import train_test_split\n",
    "\n",
    "# # read in data\n",
    "# df_1 = pd.read_csv('Data/articles1.csv')['content'].to_frame()  # only get content-column\n",
    "# df_2 = pd.read_csv('Data/articles2.csv')['content'].to_frame()\n",
    "# df_3 = pd.read_csv('Data/articles3.csv')['content'].to_frame()\n",
    "# df = df_1.append(df_2).append(df_3)\n",
    "# print('\\nData set, shape:', df.shape)\n",
    "# print(df.head(5))\n",
    "\n",
    "# # check for missing data\n",
    "# print(df.isna().sum())  # shows no null values in content-column\n",
    "\n",
    "# # split data into ~67% training and ~33% testing\n",
    "# train, test = train_test_split(df, test_size=0.33, random_state=1)\n",
    "# print('\\nTraining data set, shape:', train.shape)\n",
    "# print('Testing data set, shape:', test.shape)\n",
    "\n",
    "# # reset indices\n",
    "# train = train.reset_index(drop=True)\n",
    "# test = test.reset_index(drop=True)\n",
    "# print(train.head(5))\n",
    "# print('\\n', test.head(5))\n",
    "\n",
    "# Small dataset model:\n",
    "# read in data\n",
    "df = pd.read_csv('Data/articles1.csv')['content'].to_frame()\n",
    "df.drop(df.index[0:49999],0,inplace=True)  # drop a few rows to make dataset smaller and more manageable\n",
    "print('\\nData set, shape:', df.shape)\n",
    "# check for missing data\n",
    "print(df.isna().sum())  # shows no null values in content-column\n",
    "\n",
    "pd.set_option('display.max_colwidth', None)\n",
    "print(df.head(1))\n",
    "\n",
    "num_articles = df.shape[0]"
   ]
  },
  {
   "cell_type": "markdown",
   "metadata": {},
   "source": [
    "### Pre-process the Data"
   ]
  },
  {
   "cell_type": "code",
   "execution_count": 3,
   "metadata": {},
   "outputs": [],
   "source": [
    "# load spacy nlp pre-processing pipeline to use for lemmatization\n",
    "nlp = spacy.load('en_core_web_sm')"
   ]
  },
  {
   "cell_type": "code",
   "execution_count": 4,
   "metadata": {},
   "outputs": [],
   "source": [
    "# create filter for gensim nlp pre-processing pipeline to include all steps except stemmatization\n",
    "CUSTOM_FILTERS = [lambda x: x.lower(),  # lowercase\n",
    "                  strip_tags,\n",
    "                  strip_punctuation,  # replace punctuation with whitespace\n",
    "                  strip_multiple_whitespaces,  # remove repeating whitespaces\n",
    "                  strip_numeric,  # remove numbers\n",
    "                  remove_stopwords,  # remove stopwords\n",
    "                  strip_short,  # remove words with less than 3 characters\n",
    "                  #  stem_text  # return porter-stemmed text,\n",
    "                 ]"
   ]
  },
  {
   "cell_type": "code",
   "execution_count": 5,
   "metadata": {},
   "outputs": [
    {
     "name": "stdout",
     "output_type": "stream",
     "text": [
      "Hello, my name is something you'll never guess, Kim! ...But I wrote my signature. Right! My parents called me this, what can I say?\n"
     ]
    }
   ],
   "source": [
    "sample = \"Hello, my name is something you'll never guess, Kim! ...But I wrote my signature. Right! My parents called me this, what can I say?\"\n",
    "print(sample)"
   ]
  },
  {
   "cell_type": "code",
   "execution_count": 6,
   "metadata": {},
   "outputs": [
    {
     "name": "stdout",
     "output_type": "stream",
     "text": [
      "['hello', 'guess', 'kim', 'wrote', 'signatur', 'right', 'parent', 'call']\n"
     ]
    }
   ],
   "source": [
    "# test sample string without filtered pipeline, i.e., with stemmatizer\n",
    "test_a = preprocess_string(sample)\n",
    "print(test_a)"
   ]
  },
  {
   "cell_type": "code",
   "execution_count": 7,
   "metadata": {},
   "outputs": [
    {
     "name": "stdout",
     "output_type": "stream",
     "text": [
      "['hello', 'guess', 'kim', 'write', 'signature', 'right', 'parent', 'call']\n"
     ]
    }
   ],
   "source": [
    "# test sample string with filtered pipeline and lemmatizer\n",
    "test_b = ' '.join(preprocess_string(sample, CUSTOM_FILTERS))  # pre-process without stemmatizing\n",
    "lem = [token.lemma_ for token in nlp(test_b)]  # lemmatize\n",
    "print(lem)"
   ]
  },
  {
   "cell_type": "code",
   "execution_count": 8,
   "metadata": {},
   "outputs": [],
   "source": [
    "def preprocess_articles(x):\n",
    "    prep = ' '.join(preprocess_string(x, CUSTOM_FILTERS))\n",
    "    return [token.lemma_ for token in nlp(prep)]"
   ]
  },
  {
   "cell_type": "code",
   "execution_count": 9,
   "metadata": {},
   "outputs": [],
   "source": [
    "# apply final pipeline to all data\n",
    "df['preprocessed'] = df['content'].apply(preprocess_articles)"
   ]
  },
  {
   "cell_type": "code",
   "execution_count": 10,
   "metadata": {},
   "outputs": [
    {
     "name": "stdout",
     "output_type": "stream",
     "text": [
      "49999    [force, gravity, describe, number, metaphor, it, ’s, glue, hold, solar, system, galaxy, anchor, keep, ground, slingshot, send, spacecraft, deep, solar, case, gravity, thief, astronomer, center, astrophysic, say, wednesday, discover, distant, star, milky, way, galaxy, actually, come, sagittarius, dwarf, galaxy, dozen, small, galaxy, surround, sagittarius, pass, milky, way, ’, gravitational, tide, pull, galaxy, star, interloper, farthest, know, star, milky, way, locate, stretch, star, outside, galaxy, ’s, spiral, disk, astronomer, determine, origin, simulation, simulate, movement, sagittarius, milky, way, galaxy, course, billion, year, test, show, time, sagittarius, lose, star, star, scientist, whisk, away, milky, way, settle, stream, galaxy, ’s, edge, observe, position, velocity, ...]\n",
      "Name: preprocessed, dtype: object\n"
     ]
    }
   ],
   "source": [
    "# print head of preprocessed df\n",
    "print(df['preprocessed'].head(1))"
   ]
  },
  {
   "cell_type": "code",
   "execution_count": 11,
   "metadata": {},
   "outputs": [
    {
     "data": {
      "text/plain": [
       "[(21.5, 'considered “ island universes ,”'),\n",
       " (16.0, 'milky way galaxy actually came'),\n",
       " (14.666666666666666, 'origin using computer simulations'),\n",
       " (14.181818181818182, 'stolen stars also suggests'),\n",
       " (9.0, 'sends spacecraft deeper'),\n",
       " (9.0, 'cosmic theft may'),\n",
       " (9.0, 'astrophysics said wednesday'),\n",
       " (9.0, '8 billion years'),\n",
       " (8.666666666666666, 'elements like iron'),\n",
       " (8.5, 'holds solar systems'),\n",
       " (8.4, 'smaller galaxies surrounding'),\n",
       " (8.4, 'closely orbiting galaxies'),\n",
       " (8.333333333333334, 'another satellite galaxy'),\n",
       " (8.181818181818182, 'farthest known stars'),\n",
       " (8.066666666666666, 'milky way galaxies'),\n",
       " (8.0, 'small magellanic cloud'),\n",
       " (8.0, 'large magellanic cloud'),\n",
       " (8.0, 'gravitational tides pulled'),\n",
       " (7.848484848484848, 'lot like stars'),\n",
       " (7.333333333333334, 'milky way ’'),\n",
       " (7.133333333333333, 'sagittarius dwarf galaxy'),\n",
       " (5.666666666666667, 'milky way'),\n",
       " (5.666666666666667, 'milky way'),\n",
       " (5.666666666666667, 'milky way'),\n",
       " (5.5, 'island ”'),\n",
       " (5.0, 'gravitational tides'),\n",
       " (4.666666666666666, 'scientists using'),\n",
       " (4.666666666666666, 'like humans'),\n",
       " (4.666666666666666, 'described using'),\n",
       " (4.5, 'solar system'),\n",
       " (4.4, 'galaxies together'),\n",
       " (4.333333333333334, 'sister galaxy'),\n",
       " (4.333333333333334, 'larger galaxy'),\n",
       " (4.181818181818182, 'stars outside'),\n",
       " (4.181818181818182, 'stars inside'),\n",
       " (4.181818181818182, 'stars inside'),\n",
       " (4.181818181818182, 'stars inside'),\n",
       " (4.181818181818182, 'five stars'),\n",
       " (4.181818181818182, 'distant stars'),\n",
       " (4.0, 'wrong direction'),\n",
       " (4.0, 'whisked away'),\n",
       " (4.0, 'torn away'),\n",
       " (4.0, 'test showed'),\n",
       " (4.0, 'spiral disk'),\n",
       " (4.0, 'observed position'),\n",
       " (4.0, 'keeps us'),\n",
       " (4.0, 'galaxy ’'),\n",
       " (4.0, 'galaxy ’'),\n",
       " (4.0, 'five interlopers'),\n",
       " (4.0, 'chemical composition'),\n",
       " (4.0, '5 percent'),\n",
       " (3.8, 'sagittarius passed'),\n",
       " (3.8, 'sagittarius lost'),\n",
       " (3.5, 'scientists say'),\n",
       " (3.5, 'astronomers determined'),\n",
       " (3.0, '“'),\n",
       " (3.0, 'came'),\n",
       " (2.4, 'galaxies'),\n",
       " (2.3333333333333335, 'galaxy'),\n",
       " (2.3333333333333335, 'galaxy'),\n",
       " (2.1818181818181817, 'stars'),\n",
       " (2.1818181818181817, 'stars'),\n",
       " (2.0, 'cloud'),\n",
       " (2.0, 'cloud'),\n",
       " (1.8, 'sagittarius'),\n",
       " (1.8, 'sagittarius'),\n",
       " (1.6666666666666667, '’'),\n",
       " (1.6666666666666667, '’'),\n",
       " (1.6666666666666667, '’'),\n",
       " (1.5, 'say'),\n",
       " (1.5, 'astronomers'),\n",
       " (1.0, 'velocities'),\n",
       " (1.0, 'universe'),\n",
       " (1.0, 'time'),\n",
       " (1.0, 'thief'),\n",
       " (1.0, 'thanks'),\n",
       " (1.0, 'telescope'),\n",
       " (1.0, 'study'),\n",
       " (1.0, 'stretch'),\n",
       " (1.0, 'streams'),\n",
       " (1.0, 'spinning'),\n",
       " (1.0, 'slingshot'),\n",
       " (1.0, 'simulated'),\n",
       " (1.0, 'settled'),\n",
       " (1.0, 'ratios'),\n",
       " (1.0, 'particularly'),\n",
       " (1.0, 'particularly'),\n",
       " (1.0, 'one'),\n",
       " (1.0, 'number'),\n",
       " (1.0, 'neighborhoods'),\n",
       " (1.0, 'must'),\n",
       " (1.0, 'movements'),\n",
       " (1.0, 'metaphors'),\n",
       " (1.0, 'maybe'),\n",
       " (1.0, 'match'),\n",
       " (1.0, 'made'),\n",
       " (1.0, 'looked'),\n",
       " (1.0, 'located'),\n",
       " (1.0, 'kind'),\n",
       " (1.0, 'instead'),\n",
       " (1.0, 'ground'),\n",
       " (1.0, 'gravity'),\n",
       " (1.0, 'gravity'),\n",
       " (1.0, 'glue'),\n",
       " (1.0, 'force'),\n",
       " (1.0, 'edge'),\n",
       " (1.0, 'dozens'),\n",
       " (1.0, 'discovered'),\n",
       " (1.0, 'discovered'),\n",
       " (1.0, 'course'),\n",
       " (1.0, 'concluded'),\n",
       " (1.0, 'common'),\n",
       " (1.0, 'chile'),\n",
       " (1.0, 'center'),\n",
       " (1.0, 'cases'),\n",
       " (1.0, 'calcium'),\n",
       " (1.0, 'anchor'),\n",
       " (1.0, 'among'),\n",
       " (1.0, '2011')]"
      ]
     },
     "execution_count": 11,
     "metadata": {},
     "output_type": "execute_result"
    }
   ],
   "source": [
    "# nltk.download('stopwords')\n",
    "r = Rake()\n",
    "r.extract_keywords_from_text(df['content'].iloc[0])\n",
    "r.get_ranked_phrases_with_scores()"
   ]
  }
 ],
 "metadata": {
  "kernelspec": {
   "display_name": "Python 3",
   "language": "python",
   "name": "python3"
  },
  "language_info": {
   "codemirror_mode": {
    "name": "ipython",
    "version": 3
   },
   "file_extension": ".py",
   "mimetype": "text/x-python",
   "name": "python",
   "nbconvert_exporter": "python",
   "pygments_lexer": "ipython3",
   "version": "3.8.3"
  }
 },
 "nbformat": 4,
 "nbformat_minor": 4
}
