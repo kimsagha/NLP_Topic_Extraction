{
 "cells": [
  {
   "cell_type": "markdown",
   "metadata": {},
   "source": [
    "# NLP Project\n",
    "## Topic extraction\n",
    "The purpose of this project is to extract topics from news articles."
   ]
  },
  {
   "cell_type": "markdown",
   "metadata": {},
   "source": [
    "### Step-by-step Process\n",
    "1. Find a suitable NLP model to use for topic extraction: NER\n",
    "2. Preprocess the data\n",
    "3. Get results\n",
    "4. Documentation"
   ]
  },
  {
   "cell_type": "code",
   "execution_count": 10,
   "metadata": {},
   "outputs": [],
   "source": [
    "# import dependencies\n",
    "import pandas as pd\n",
    "import spacy\n",
    "from spacy import displacy\n",
    "from collections import Counter"
   ]
  },
  {
   "cell_type": "markdown",
   "metadata": {},
   "source": [
    "### Data Pre-processing"
   ]
  },
  {
   "cell_type": "code",
   "execution_count": 11,
   "metadata": {},
   "outputs": [
    {
     "name": "stdout",
     "output_type": "stream",
     "text": [
      "\n",
      "Data set, shape: (1, 1)\n",
      "                                                                                                                                                                                                                                                                                                                                                                                                                                                                                                                                                                                                                                                                                                                                                                                                                                                                                                                                                                                                                                                                                                                                                                                                                                                                                                                                                                                                                                                                                                                                                                                                                                                                                                                                                                                                                                                                                                                                                                                                                                                                                                                             content\n",
      "49999  The force of gravity can be described using a number of metaphors: It’s the glue that holds solar systems and galaxies together, the anchor that keeps us on the ground, the slingshot that sends spacecraft deeper into the solar system. And in some cases, gravity is a thief. Astronomers at the   Center for Astrophysics said Wednesday they have discovered that some of the most distant stars in the Milky Way galaxy actually came the Sagittarius dwarf galaxy, one of the dozens of smaller galaxies surrounding ours. When Sagittarius passed by, the Milky Way’s gravitational tides pulled on the galaxy, and made off with five stars. The five interlopers are among the farthest known stars in the Milky Way, located in a stretch of stars outside the galaxy’s spiral disk. Astronomers determined their origin using computer simulations. They simulated the movements of the Sagittarius and Milky Way galaxies over the course of 8 billion years. The test showed that over time, Sagittarius lost about   of its stars. The stars, the scientists say, were whisked away by the Milky Way and settled into streams at the galaxy’s edge. The observed position and velocities of the stolen stars also suggests they came from Sagittarius, they say. This kind of cosmic theft may be common in the universe, particularly in neighborhoods of closely orbiting galaxies. In 2011, scientists using a   telescope in Chile to study the Large Magellanic Cloud, another satellite galaxy of the Milky Way, discovered that more than 5 percent of the stars inside the cloud were spinning in the wrong direction. What’s more, their chemical composition, particularly the ratios of elements like iron and calcium, didn’t match that of other stars inside the cloud. Instead, they looked a lot like stars in the Small Magellanic Cloud, its sister galaxy. The stars inside the larger galaxy, they concluded, must have been torn away, thanks to gravitational tides. Galaxies were once considered “island universes,” but maybe, just like humans, “no galaxy is an island” after all.\n"
     ]
    },
    {
     "name": "stderr",
     "output_type": "stream",
     "text": [
      "<ipython-input-11-290aba15c0fb>:3: FutureWarning: In a future version of pandas all arguments of DataFrame.drop except for the argument 'labels' will be keyword-only\n",
      "  df.drop(df.index[0:49999],0,inplace=True)\n"
     ]
    }
   ],
   "source": [
    "# read in data\n",
    "df = pd.read_csv('Data/articles1.csv')['content'].to_frame()\n",
    "df.drop(df.index[0:49999],0,inplace=True)\n",
    "print('\\nData set, shape:', df.shape)\n",
    "print(df.head(1))"
   ]
  },
  {
   "cell_type": "code",
   "execution_count": 12,
   "metadata": {},
   "outputs": [
    {
     "name": "stdout",
     "output_type": "stream",
     "text": [
      "content    0\n",
      "dtype: int64\n"
     ]
    }
   ],
   "source": [
    "# check for missing data\n",
    "print(df.isna().sum())  # shows no null values in content-column"
   ]
  },
  {
   "cell_type": "markdown",
   "metadata": {},
   "source": [
    "### Loading the Pipeline"
   ]
  },
  {
   "cell_type": "code",
   "execution_count": 13,
   "metadata": {},
   "outputs": [],
   "source": [
    "# load pipeline\n",
    "nlp = spacy.load('en_core_web_sm')"
   ]
  },
  {
   "cell_type": "code",
   "execution_count": 14,
   "metadata": {},
   "outputs": [],
   "source": [
    "# initialise array of type of keywords to get\n",
    "# useful_entities = ['PERSON', 'NORP', 'ORG', 'GPE', 'LOC', 'PRODUCT', 'EVENT', 'WORK_OF_ART']\n",
    "useful_entities = ['ORG', 'GPE', 'LOC', 'PRODUCT', 'EVENT', 'WORK_OF_ART']\n",
    "\n",
    "pd.set_option('display.max_colwidth', None)"
   ]
  },
  {
   "cell_type": "code",
   "execution_count": 15,
   "metadata": {},
   "outputs": [],
   "source": [
    "# define function to apply to each article: gets a list of the 3 most common keywords\n",
    "# based on the types of entities defined in useful_entities above\n",
    "def add_keywords(x):\n",
    "    doc = nlp(x)  # run article through pipeline\n",
    "    entities = []  # initialise array of entities\n",
    "    for ent in doc.ents:\n",
    "        if ent.label_ in useful_entities:\n",
    "            entities.append(ent.lemma_)\n",
    "    cmn_ents = Counter(entities).most_common(3)\n",
    "    keywords = [e[0] for e in cmn_ents]\n",
    "    return keywords"
   ]
  },
  {
   "cell_type": "markdown",
   "metadata": {},
   "source": [
    "### Testing and Running the Pipeline"
   ]
  },
  {
   "cell_type": "code",
   "execution_count": 16,
   "metadata": {},
   "outputs": [
    {
     "name": "stdout",
     "output_type": "stream",
     "text": [
      "Keywords: ['Sagittarius', 'Center for Astrophysics', 'Chile']\n"
     ]
    },
    {
     "data": {
      "text/html": [
       "<span class=\"tex2jax_ignore\"><div class=\"entities\" style=\"line-height: 2.5; direction: ltr\">The force of gravity can be described using a number of metaphors: It’s the glue that holds solar systems and galaxies together, the anchor that keeps us on the ground, the slingshot that sends spacecraft deeper into the solar system. And in some cases, gravity is a thief. Astronomers at the   \n",
       "<mark class=\"entity\" style=\"background: #7aecec; padding: 0.45em 0.6em; margin: 0 0.25em; line-height: 1; border-radius: 0.35em;\">\n",
       "    Center for Astrophysics\n",
       "    <span style=\"font-size: 0.8em; font-weight: bold; line-height: 1; border-radius: 0.35em; vertical-align: middle; margin-left: 0.5rem\">ORG</span>\n",
       "</mark>\n",
       " said \n",
       "<mark class=\"entity\" style=\"background: #bfe1d9; padding: 0.45em 0.6em; margin: 0 0.25em; line-height: 1; border-radius: 0.35em;\">\n",
       "    Wednesday\n",
       "    <span style=\"font-size: 0.8em; font-weight: bold; line-height: 1; border-radius: 0.35em; vertical-align: middle; margin-left: 0.5rem\">DATE</span>\n",
       "</mark>\n",
       " they have discovered that some of the most distant stars in the Milky Way galaxy actually came the \n",
       "<mark class=\"entity\" style=\"background: #7aecec; padding: 0.45em 0.6em; margin: 0 0.25em; line-height: 1; border-radius: 0.35em;\">\n",
       "    Sagittarius\n",
       "    <span style=\"font-size: 0.8em; font-weight: bold; line-height: 1; border-radius: 0.35em; vertical-align: middle; margin-left: 0.5rem\">ORG</span>\n",
       "</mark>\n",
       " dwarf galaxy, \n",
       "<mark class=\"entity\" style=\"background: #e4e7d2; padding: 0.45em 0.6em; margin: 0 0.25em; line-height: 1; border-radius: 0.35em;\">\n",
       "    one\n",
       "    <span style=\"font-size: 0.8em; font-weight: bold; line-height: 1; border-radius: 0.35em; vertical-align: middle; margin-left: 0.5rem\">CARDINAL</span>\n",
       "</mark>\n",
       " of the \n",
       "<mark class=\"entity\" style=\"background: #e4e7d2; padding: 0.45em 0.6em; margin: 0 0.25em; line-height: 1; border-radius: 0.35em;\">\n",
       "    dozens\n",
       "    <span style=\"font-size: 0.8em; font-weight: bold; line-height: 1; border-radius: 0.35em; vertical-align: middle; margin-left: 0.5rem\">CARDINAL</span>\n",
       "</mark>\n",
       " of smaller galaxies surrounding ours. When Sagittarius passed by, the Milky Way’s gravitational tides pulled on the galaxy, and made off with \n",
       "<mark class=\"entity\" style=\"background: #e4e7d2; padding: 0.45em 0.6em; margin: 0 0.25em; line-height: 1; border-radius: 0.35em;\">\n",
       "    five\n",
       "    <span style=\"font-size: 0.8em; font-weight: bold; line-height: 1; border-radius: 0.35em; vertical-align: middle; margin-left: 0.5rem\">CARDINAL</span>\n",
       "</mark>\n",
       " stars. The \n",
       "<mark class=\"entity\" style=\"background: #e4e7d2; padding: 0.45em 0.6em; margin: 0 0.25em; line-height: 1; border-radius: 0.35em;\">\n",
       "    five\n",
       "    <span style=\"font-size: 0.8em; font-weight: bold; line-height: 1; border-radius: 0.35em; vertical-align: middle; margin-left: 0.5rem\">CARDINAL</span>\n",
       "</mark>\n",
       " interlopers are among the farthest known stars in the Milky Way, located in a stretch of stars outside the galaxy’s spiral disk. Astronomers determined their origin using computer simulations. They simulated the movements of the Sagittarius and Milky Way galaxies over the course of \n",
       "<mark class=\"entity\" style=\"background: #bfe1d9; padding: 0.45em 0.6em; margin: 0 0.25em; line-height: 1; border-radius: 0.35em;\">\n",
       "    8 billion years\n",
       "    <span style=\"font-size: 0.8em; font-weight: bold; line-height: 1; border-radius: 0.35em; vertical-align: middle; margin-left: 0.5rem\">DATE</span>\n",
       "</mark>\n",
       ". The test showed that over time, \n",
       "<mark class=\"entity\" style=\"background: #7aecec; padding: 0.45em 0.6em; margin: 0 0.25em; line-height: 1; border-radius: 0.35em;\">\n",
       "    Sagittarius\n",
       "    <span style=\"font-size: 0.8em; font-weight: bold; line-height: 1; border-radius: 0.35em; vertical-align: middle; margin-left: 0.5rem\">ORG</span>\n",
       "</mark>\n",
       " lost about   of its stars. The stars, the scientists say, were whisked away by the Milky Way and settled into streams at the galaxy’s edge. The observed position and velocities of the stolen stars also suggests they came from \n",
       "<mark class=\"entity\" style=\"background: #7aecec; padding: 0.45em 0.6em; margin: 0 0.25em; line-height: 1; border-radius: 0.35em;\">\n",
       "    Sagittarius\n",
       "    <span style=\"font-size: 0.8em; font-weight: bold; line-height: 1; border-radius: 0.35em; vertical-align: middle; margin-left: 0.5rem\">ORG</span>\n",
       "</mark>\n",
       ", they say. This kind of cosmic theft may be common in the universe, particularly in neighborhoods of closely orbiting galaxies. In \n",
       "<mark class=\"entity\" style=\"background: #bfe1d9; padding: 0.45em 0.6em; margin: 0 0.25em; line-height: 1; border-radius: 0.35em;\">\n",
       "    2011\n",
       "    <span style=\"font-size: 0.8em; font-weight: bold; line-height: 1; border-radius: 0.35em; vertical-align: middle; margin-left: 0.5rem\">DATE</span>\n",
       "</mark>\n",
       ", scientists using a   telescope in \n",
       "<mark class=\"entity\" style=\"background: #feca74; padding: 0.45em 0.6em; margin: 0 0.25em; line-height: 1; border-radius: 0.35em;\">\n",
       "    Chile\n",
       "    <span style=\"font-size: 0.8em; font-weight: bold; line-height: 1; border-radius: 0.35em; vertical-align: middle; margin-left: 0.5rem\">GPE</span>\n",
       "</mark>\n",
       " to study \n",
       "<mark class=\"entity\" style=\"background: #7aecec; padding: 0.45em 0.6em; margin: 0 0.25em; line-height: 1; border-radius: 0.35em;\">\n",
       "    the Large Magellanic Cloud\n",
       "    <span style=\"font-size: 0.8em; font-weight: bold; line-height: 1; border-radius: 0.35em; vertical-align: middle; margin-left: 0.5rem\">ORG</span>\n",
       "</mark>\n",
       ", another satellite galaxy of the Milky Way, discovered that \n",
       "<mark class=\"entity\" style=\"background: #e4e7d2; padding: 0.45em 0.6em; margin: 0 0.25em; line-height: 1; border-radius: 0.35em;\">\n",
       "    more than 5 percent\n",
       "    <span style=\"font-size: 0.8em; font-weight: bold; line-height: 1; border-radius: 0.35em; vertical-align: middle; margin-left: 0.5rem\">PERCENT</span>\n",
       "</mark>\n",
       " of the stars inside the cloud were spinning in the wrong direction. What’s more, their chemical composition, particularly the ratios of elements like iron and calcium, didn’t match that of other stars inside the cloud. Instead, they looked a lot like stars in the Small Magellanic Cloud, its sister galaxy. The stars inside the larger galaxy, they concluded, must have been torn away, thanks to gravitational tides. Galaxies were once considered “island universes,” but maybe, just like humans, “no galaxy is an island” after all.</div></span>"
      ],
      "text/plain": [
       "<IPython.core.display.HTML object>"
      ]
     },
     "metadata": {},
     "output_type": "display_data"
    }
   ],
   "source": [
    "# run pipeline on first article and print keywords plus text with highlighted keywords for demonstration\n",
    "first_keywords = add_keywords(df['content'].iloc[0])\n",
    "print('Keywords:', first_keywords)\n",
    "displacy.render(nlp(df['content'].iloc[0]), style=\"ent\", jupyter=True)"
   ]
  },
  {
   "cell_type": "code",
   "execution_count": 17,
   "metadata": {},
   "outputs": [],
   "source": [
    "# apply add_keywords-function to all articles to load each one's keywords into new column\n",
    "df['keywords'] = df['content'].apply(add_keywords)"
   ]
  },
  {
   "cell_type": "code",
   "execution_count": 18,
   "metadata": {},
   "outputs": [
    {
     "name": "stdout",
     "output_type": "stream",
     "text": [
      "49999    [Sagittarius, Center for Astrophysics, Chile]\n",
      "Name: keywords, dtype: object\n"
     ]
    }
   ],
   "source": [
    "# save the df with added keywords into a csv file\n",
    "df.to_csv('Data/articles_keywords.csv', index=False)\n",
    "\n",
    "# print first 10 rows of topics\n",
    "print(df['keywords'].head(10))"
   ]
  },
  {
   "cell_type": "code",
   "execution_count": null,
   "metadata": {},
   "outputs": [],
   "source": []
  }
 ],
 "metadata": {
  "kernelspec": {
   "display_name": "Python 3",
   "language": "python",
   "name": "python3"
  },
  "language_info": {
   "codemirror_mode": {
    "name": "ipython",
    "version": 3
   },
   "file_extension": ".py",
   "mimetype": "text/x-python",
   "name": "python",
   "nbconvert_exporter": "python",
   "pygments_lexer": "ipython3",
   "version": "3.8.3"
  }
 },
 "nbformat": 4,
 "nbformat_minor": 4
}
