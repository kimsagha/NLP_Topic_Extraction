{
 "cells": [
  {
   "cell_type": "markdown",
   "metadata": {},
   "source": [
    "# NLP Project\n",
    "## Topic extraction\n",
    "The purpose of this project is to extract topics from news articles."
   ]
  },
  {
   "cell_type": "markdown",
   "metadata": {},
   "source": [
    "### Step-by-step Process\n",
    "1. Find a suitable NLP model to use for topic extraction: LDA\n",
    "2. Preprocess the data\n",
    "3. Get results\n",
    "4. Documentation"
   ]
  },
  {
   "cell_type": "code",
   "execution_count": 42,
   "metadata": {},
   "outputs": [],
   "source": [
    "# import dependencies\n",
    "import pandas as pd\n",
    "from gensim.parsing.preprocessing import preprocess_string\n",
    "from gensim.parsing.preprocessing import strip_tags, strip_punctuation, strip_multiple_whitespaces, strip_numeric, remove_stopwords, strip_short, stem_text\n",
    "import gensim  # necessary?\n",
    "from gensim import corpora\n",
    "from gensim.models import Word2Vec, TfidfModel, LdaMulticore, LsiModel\n",
    "import spacy\n",
    "\n",
    "import warnings\n",
    "warnings.filterwarnings('ignore')"
   ]
  },
  {
   "cell_type": "markdown",
   "metadata": {},
   "source": [
    "### Data Pre-processing"
   ]
  },
  {
   "cell_type": "code",
   "execution_count": 43,
   "metadata": {},
   "outputs": [
    {
     "name": "stdout",
     "output_type": "stream",
     "text": [
      "\n",
      "Data set, shape: (100, 1)\n",
      "content    0\n",
      "dtype: int64\n",
      "                                                                                                                                                                                                                                                                                                                                                                                                                                                                                                                                                                                                                                                                                                                                                                                                                                                                                                                                                                                                                                                                                                                                                                                                                                                                                                                                                                                                                                                                                                                                                                                                                                                                                                                                                                                                                                                                                                                                                                                                                                                                                                                                                                                                                                                                                                                                                                                                                                                                                                                                                                                                                                                                                                                                                                                                                                                                                                                                                                                                                                                                                                                                                                                                                                                                                                                                                                                                                                                                                                                                                                                                                                                                                                                                                                                                                                                                                                                                                                                                                                                                                                                                                                                                                                                                                                                                                                                                                                                                                                                                                                                                                                                                                                                                                                                                                                                                                                                                                                                                                                                                                                                                                                                                                                                                                                                                                                                                                                                                                                                                                                                                                                                                                    content\n",
      "49900  “Let us not be timid,” Paul Ryan exhorted members of the House on Tuesday, moments after 239 Republicans had, in   fashion,   him as speaker. He was girding his party for what he called “the opportunity of a lifetime” —  the chance to remake Washington under   Donald Trump and unified Republican control of government. Ryan needn’t have worried about his members’ gumption: They had committed their first act of political overreach before the 115th Congress was even sworn in. The night before, a majority of House Republicans had voted behind closed doors to gut the Office of Congressional Ethics, a   independent body that had arisen out of the last era of GOP scandal. They had acted against the better judgment of their leaders, including Ryan, who had accurately warned them that such a move would undermine the party’s effort to open the new Congress in a mood of unity and optimism. A predictable uproar ensued, and with a modest push from Trump, Republican lawmakers hastily reconvened to rescind their amendment barely five minutes before the 115th Congress gaveled into session. The GOP’s Ethics Disaster, The episode was, in a sense, a test of political boundaries for a party that sees itself as having won a broad mandate from the voters. If Trump could get away with all manner of offensive comments, damaging revelations, ethical malfeasance and still get elected president, what would stop lawmakers from neutering a pesky ethics office that had ensnared many of them (and Democrats, too!) in investigations? As it turned out, Trump’s victory did not mean the end of public scrutiny it did not immunize politicians from nasty headlines or angry phone calls, emails, and tweets. Republicans backed away from their ethics gambit, but as Ryan made clear, they are intent on acting swiftly on an ambitious policy agenda to dismantle key parts of the Obama presidency and replace them with   conservative reforms. “We have a lot to do —  and a lot to undo,” House Majority Leader Kevin McCarthy wrote in a message to lawmakers over the weekend. GOP leaders plan to devote the next two weeks to teeing up legislation that Trump can sign in his  first weeks in office. The House will vote this week on bills to prevent Obama from issuing a slew of new regulations on his way out of office and to ensure Congress has a say in major new regulations going forward. The first day in the Senate brought the introduction of a budget resolution that will lay the groundwork for repealing core pieces of the Affordable Care Act. The two chambers hope to send the actual repeal bill —  sans an Obamacare replacement —  to Trump’s desk in the next month or so. “The people have given us unified government,” Ryan said in his    opening address. “And it wasn’t because they were feeling generous. It’s because they wanted results. How could we live with ourselves if we let them down? How could we let ourselves down?” If Republicans are feeling pressure to deliver results for their voters, so too are Democrats under pressure to deliver a fight for theirs. The beginning of a new Congress usually brings a brief respite from the usual partisanship. Young children clog the Capitol halls as lawmakers bring their families to their   the two chambers gavel in with rituals of pomp and circumstance, and   members learn the way to their offices (and to the bathrooms). But on this opening day, Democrats in both the House and the Senate were digging in for battle. In a   of Republican rules designed to punish actual member protests, Democratic House members embellished their speaker votes for Nancy Pelosi by adding the preamble, “Because the people’s House should be ethical, accountable, and open to free debate. .. ” During her ceremonial introduction of Ryan upon his election as speaker, Pelosi digressed to warn Republicans that if they tried to repeal the Affordable Care Act, cut Medicare, or otherwise roll back Obama’s legacy, “Democrats will stand our ground. ” And in the Senate, the new Democratic leader, Charles Schumer of New York, used his own opening remarks to warn both Trump and the Republican majorities that Democrats would hold them accountable across the full range of promises that they made during the campaign. “We will hold Trump accountable to the values that truly make America great,” Schumer said. “But we’ll fight him tooth and nail when he appeals to the baser instincts that diminish America and its greatness —  instincts that have too often plagued this country and his campaign. ” Democrats are banking on Republicans falling short —  that the party unity on display in Ryan’s election on Tuesday will quickly fade, that the slim GOP majority in the Senate will stumble and bicker, that an inexperienced and impatient president will grow frustrated with his party’s struggle in Congress. And most of all, Democrats are waiting for Republicans to overreach, to interpret a narrow presidential victory as an endorsement of conservative dogma and push forward with   changes to entitlements, the tax code, and consumer protections. That, they believe, would invite a public backlash —  much like the one that greeted Republicans on Tuesday after their   ethics maneuver. Republicans may have learned that the law of political gravity still applies to them. But their chastening on ethics isn’t likely to humble them on policy. GOP leaders have been waiting for this moment for a decade, and don’t expect them to be timid. \n",
      "49901                                                                                                                                                                                                                                                                                                                                                                                                                                                                                                                                                                                                                                                                                                                                                                                                                                                                                                                                                                                                                                                                                                                                                                                                                                                                                                                                                                                                                                                                                                                                                                                                                                                                                                                                                          The 115th Congress is back in session, and at least one thing looks the same as usual: 91 percent of its members identify as Christians. This proportion has basically remained constant for more than five decades, as long as this kind of data has been available, according to a new study from Pew Research Center. What has changed is the U. S. population: Only 71 percent of American adults identify as Christians. Some religious minorities, including Muslims, Hindus, and Buddhists, are slightly underrepresented in Congress relative to their population sizes in the United States, while others, including Jews and Mormons, are slightly overrepresented. But these groups aren’t the source of the demographic mismatch between Congress and the rest of the country. The Americans who are vastly underrepresented in Congress are those who don’t identify with any religion at all: Only one member of Congress, Kyrsten Sinema of Arizona, says she is religiously unaffiliated, while 10 others declined to state their affiliation in surveys and interviews with CQ Roll Call. The Futility of Representing Religion With a Bar Chart, There are at least two good explanations for this phenomenon. The first is that religiously unaffiliated Americans don’t vote. Another way of putting that is that young people don’t vote: According to the Public Religion Research Institute,      are three times as likely to be religiously unaffiliated compared to people over 65. Even though the religiously unaffiliated share of the American population has significantly increased from 14 to 22 percent between 2004 and 2014, the share of religiously unaffiliated voters only increased from 9 to 12 percent. This chart offers a stark illustration of how politically disengaged these voters really are: Religiously Unaffiliated Americans Don’t Vote  Scholars and journalists have long decried the civic apathy of the young. But at least in terms of religious demographics, it makes sense that there has not been a political revolution under the banner of irreligion: “Religiously unaffiliated” is a category popularized by pollsters. It is a useful demographic tool, but not a very useful way of understanding how these Americans think about politics. “Religiously unaffiliated” means these Americans don’t feel like they’re part of any particular religious tradition or denomination. But that includes a huge and diverse group of people. Those who formally identify as atheists and agnostics are actually a minority, representing roughly 3 and 4 percent of the American population, respectively. Others in this group, which includes roughly 23 percent of Americans, might be in the process of changing religions or feel like they have no spiritual home in a formal house of worship. They include people who believe in God and people who might be married to a spouse with a different faith background. And they include lots of people who don’t find religion particularly important or relevant in their lives. This, above all, is why it’s suspect to suggest that religiously unaffiliated people are underrepresented in Congress: They are not actually a coherent demographic group. It makes some sense that people who have mixed feelings or don’t care about religion wouldn’t bother organizing to get more of their kind in Congress. It’s also possible that at least some of the members who claimed a specific faith on their CQ Roll Call survey are only nominally religious, anyways. After all, any pollster worth his galleons knows it’s tough to elect atheists to political office.   If this is truly a crisis of representation, there’s good news. Religiously unaffiliated Americans who are bothered by their lack of a voice in Congress can use one simple trick to start making change: They can vote.\n"
     ]
    }
   ],
   "source": [
    "# Large dataset model:\n",
    "# from sklearn.model_selection import train_test_split\n",
    "\n",
    "# # read in data\n",
    "# df_1 = pd.read_csv('Data/articles1.csv')['content'].to_frame()  # only get content-column\n",
    "# df_2 = pd.read_csv('Data/articles2.csv')['content'].to_frame()\n",
    "# df_3 = pd.read_csv('Data/articles3.csv')['content'].to_frame()\n",
    "# df = df_1.append(df_2).append(df_3)\n",
    "# print('\\nData set, shape:', df.shape)\n",
    "# print(df.head(5))\n",
    "\n",
    "# # check for missing data\n",
    "# print(df.isna().sum())  # shows no null values in content-column\n",
    "\n",
    "# # split data into ~67% training and ~33% testing\n",
    "# train, test = train_test_split(df, test_size=0.33, random_state=1)\n",
    "# print('\\nTraining data set, shape:', train.shape)\n",
    "# print('Testing data set, shape:', test.shape)\n",
    "\n",
    "# # reset indices\n",
    "# train = train.reset_index(drop=True)\n",
    "# test = test.reset_index(drop=True)\n",
    "# print(train.head(5))\n",
    "# print('\\n', test.head(5))\n",
    "\n",
    "# Small dataset model:\n",
    "# read in data\n",
    "df = pd.read_csv('Data/articles1.csv')['content'].to_frame()\n",
    "df.drop(df.index[0:49900],0,inplace=True)  # drop a few rows to make dataset smaller and more manageable\n",
    "print('\\nData set, shape:', df.shape)\n",
    "# check for missing data\n",
    "print(df.isna().sum())  # shows no null values in content-column\n",
    "\n",
    "pd.set_option('display.max_colwidth', None)\n",
    "print(df.head(2))\n",
    "\n",
    "num_articles = df.shape[0]"
   ]
  },
  {
   "cell_type": "markdown",
   "metadata": {},
   "source": [
    "### Pre-process the Data"
   ]
  },
  {
   "cell_type": "code",
   "execution_count": 44,
   "metadata": {},
   "outputs": [],
   "source": [
    "# load spacy nlp pre-processing pipeline to use for lemmatization\n",
    "nlp = spacy.load('en_core_web_sm')"
   ]
  },
  {
   "cell_type": "code",
   "execution_count": 45,
   "metadata": {},
   "outputs": [],
   "source": [
    "# create filter for gensim nlp pre-processing pipeline to include all steps except stemmatization\n",
    "CUSTOM_FILTERS = [lambda x: x.lower(),  # lowercase\n",
    "                  strip_tags,\n",
    "                  strip_punctuation,  # replace punctuation with whitespace\n",
    "                  strip_multiple_whitespaces,  # remove repeating whitespaces\n",
    "                  strip_numeric,  # remove numbers\n",
    "                  remove_stopwords,  # remove stopwords\n",
    "                  strip_short,  # remove words with less than 3 characters\n",
    "                  #  stem_text  # return porter-stemmed text,\n",
    "                 ]"
   ]
  },
  {
   "cell_type": "code",
   "execution_count": 46,
   "metadata": {},
   "outputs": [
    {
     "name": "stdout",
     "output_type": "stream",
     "text": [
      "Hello, my name is something you'll never guess, Kim! ...But I wrote my signature. Right! My parents called me this, what can I say?\n"
     ]
    }
   ],
   "source": [
    "sample = \"Hello, my name is something you'll never guess, Kim! ...But I wrote my signature. Right! My parents called me this, what can I say?\"\n",
    "print(sample)"
   ]
  },
  {
   "cell_type": "code",
   "execution_count": 47,
   "metadata": {},
   "outputs": [
    {
     "name": "stdout",
     "output_type": "stream",
     "text": [
      "['hello', 'guess', 'kim', 'wrote', 'signatur', 'right', 'parent', 'call']\n"
     ]
    }
   ],
   "source": [
    "# test sample string without filtered pipeline, i.e., with stemmatizer\n",
    "test_a = preprocess_string(sample)\n",
    "print(test_a)"
   ]
  },
  {
   "cell_type": "code",
   "execution_count": 48,
   "metadata": {},
   "outputs": [
    {
     "name": "stdout",
     "output_type": "stream",
     "text": [
      "['hello', 'guess', 'kim', 'write', 'signature', 'right', 'parent', 'call']\n"
     ]
    }
   ],
   "source": [
    "# test sample string with filtered pipeline and lemmatizer\n",
    "test_b = ' '.join(preprocess_string(sample, CUSTOM_FILTERS))  # pre-process without stemmatizing\n",
    "lem = [token.lemma_ for token in nlp(test_b)]  # lemmatize\n",
    "print(lem)"
   ]
  },
  {
   "cell_type": "code",
   "execution_count": 49,
   "metadata": {},
   "outputs": [],
   "source": [
    "def preprocess_articles(x):\n",
    "    prep = ' '.join(preprocess_string(x, CUSTOM_FILTERS))\n",
    "    return [token.lemma_ for token in nlp(prep)]"
   ]
  },
  {
   "cell_type": "code",
   "execution_count": 50,
   "metadata": {},
   "outputs": [],
   "source": [
    "# apply final pipeline to all data\n",
    "df['preprocessed'] = df['content'].apply(preprocess_articles)"
   ]
  },
  {
   "cell_type": "code",
   "execution_count": 61,
   "metadata": {},
   "outputs": [
    {
     "name": "stdout",
     "output_type": "stream",
     "text": [
      "49900                                                                                               [\", let, timid, paul, ryan, exhort, members, house, tuesday, moment, republicans, fashion, speaker, gird, party, call, \", the, opportunity, lifetime, \", chance, remake, washington, donald, trump, unify, republican, control, government, ryan, need, n’t, worried, member, ’, gumption, commit, act, political, overreach, congress, swear, night, majority, house, republicans, vote, closed, door, gut, office, congressional, ethic, independent, body, arisen, era, gop, scandal, act, well, judgment, leader, include, ryan, accurately, warn, undermine, party, ’s, effort, open, new, congress, mood, unity, optimism, predictable, uproar, ensue, modest, push, trump, republican, lawmaker, hastily, reconvene, rescind, amendment, barely, minute, congress, gavele, session, gop, ’, ethic, disaster, episode, ...]\n",
      "49901    [congress, session, thing, look, usual, percent, member, identify, christians, proportion, basically, remain, constant, decade, long, kind, datum, available, accord, new, study, pew, research, center, change, population, percent, american, adult, identify, christians, religious, minority, include, muslims, hindu, buddhist, slightly, underrepresented, congress, relative, population, size, united, states, include, jews, mormon, slightly, overrepresente, group, be, n’t, source, demographic, mismatch, congress, rest, country, americans, vastly, underrepresented, congress, do, n’t, identify, religion, member, congress, kyrsten, sinema, arizona, say, religiously, unaffiliate, decline, state, affiliation, survey, interview, roll, futility, represent, religion, bar, chart, good, explanation, phenomenon, religiously, unaffiliate, americans, do, n’t, vote, way, put, young, people, do, ...]\n",
      "Name: preprocessed, dtype: object\n"
     ]
    }
   ],
   "source": [
    "# print head of preprocessed df\n",
    "print(df['preprocessed'].head(2))"
   ]
  },
  {
   "cell_type": "markdown",
   "metadata": {},
   "source": [
    "### Prepare pre-processed articles for topic extraction models"
   ]
  },
  {
   "cell_type": "code",
   "execution_count": 52,
   "metadata": {},
   "outputs": [],
   "source": [
    "# create corpus: article contents embedded according to BoW-model using dictionary\n",
    "article_dict = corpora.Dictionary(df['preprocessed'])\n",
    "bow_corpus = [article_dict.doc2bow(line) for line in df['preprocessed']]\n",
    "tfidf = TfidfModel(bow_corpus)  # take term-frequency into account in bow-model, fit\n",
    "tfidf_corpus = tfidf[bow_corpus]  # transform"
   ]
  },
  {
   "cell_type": "code",
   "execution_count": 53,
   "metadata": {},
   "outputs": [],
   "source": [
    "# model = Word2Vec(df['preprocessed'], workers=4)\n",
    "# print(model)\n",
    "# print(model.wv.most_similar(positive=['president'], topn=5))\n",
    "# model.save('model.bin')\n",
    "# model = Word2Vec.load('model.bin')"
   ]
  },
  {
   "cell_type": "markdown",
   "metadata": {},
   "source": [
    "### LDA - Topic Modelling"
   ]
  },
  {
   "cell_type": "code",
   "execution_count": 54,
   "metadata": {},
   "outputs": [],
   "source": [
    "lda_model = LdaMulticore(corpus=tfidf_corpus,\n",
    "                         id2word=article_dict,\n",
    "                         random_state=100,\n",
    "                         num_topics=num_articles)\n",
    "\n",
    "# save the model\n",
    "lda_model.save(\"LDA_model/LDA_model\")\n",
    "# lda_model = LdaModel.load(\"LDA_model/LDA_model\")"
   ]
  },
  {
   "cell_type": "code",
   "execution_count": 59,
   "metadata": {},
   "outputs": [
    {
     "name": "stdout",
     "output_type": "stream",
     "text": [
      "(0, '0.002*\"siddiqui\" + 0.001*\"ethic\" + 0.001*\"hearing\" + 0.001*\"marine\" + 0.001*\"elaine\" + 0.001*\"confirmation\" + 0.001*\"daily\" + 0.001*\"tax\" + 0.001*\"tuesday\" + 0.001*\"booker\"')\n",
      "\n",
      " (1, '0.000*\"runway\" + 0.000*\"sandy\" + 0.000*\"ring\" + 0.000*\"ringleader\" + 0.000*\"riot\" + 0.000*\"roar\" + 0.000*\"rooftop\" + 0.000*\"rumple\" + 0.000*\"rhode\" + 0.000*\"sand\"')\n"
     ]
    }
   ],
   "source": [
    "# topics per article\n",
    "# lda_model.print_topics(-1)\n",
    "\n",
    "# topics for first and second article\n",
    "print(lda_model.print_topics(-1)[0])\n",
    "print('\\n', lda_model.print_topics(-1)[1])"
   ]
  },
  {
   "cell_type": "markdown",
   "metadata": {},
   "source": [
    "### LSA - Topic Modelling"
   ]
  },
  {
   "cell_type": "code",
   "execution_count": 56,
   "metadata": {},
   "outputs": [],
   "source": [
    "LSI_model = LsiModel(corpus=tfidf_corpus,\n",
    "                     id2word=article_dict,\n",
    "                     num_topics=num_articles) \n",
    "\n",
    "# save model\n"
   ]
  },
  {
   "cell_type": "code",
   "execution_count": 60,
   "metadata": {},
   "outputs": [
    {
     "name": "stdout",
     "output_type": "stream",
     "text": [
      "(0, '0.176*\"trump\" + 0.152*\"intelligence\" + 0.115*\"nominee\" + 0.110*\"senate\" + 0.110*\"ethic\" + 0.099*\"hearing\" + 0.095*\"russian\" + 0.093*\"confirmation\" + 0.093*\"russia\" + 0.093*\"student\"')\n",
      "\n",
      " (1, '-0.706*\"rafsanjani\" + -0.190*\"iran\" + -0.177*\"khamenei\" + -0.142*\"khomeini\" + -0.138*\"iranian\" + 0.133*\"nominee\" + 0.122*\"ethic\" + -0.103*\"ahmadinejad\" + 0.102*\"senate\" + 0.095*\"hearing\"')\n"
     ]
    }
   ],
   "source": [
    "# topics per article\n",
    "# LSI_model.print_topics(-1)\n",
    "\n",
    "# topics for first and second article\n",
    "print(LSI_model.print_topics(-1)[0])\n",
    "print('\\n', LSI_model.print_topics(-1)[1])"
   ]
  },
  {
   "cell_type": "markdown",
   "metadata": {},
   "source": [
    "#### Future improvement: optimise number of topics"
   ]
  },
  {
   "cell_type": "code",
   "execution_count": null,
   "metadata": {},
   "outputs": [],
   "source": []
  }
 ],
 "metadata": {
  "kernelspec": {
   "display_name": "Python 3",
   "language": "python",
   "name": "python3"
  },
  "language_info": {
   "codemirror_mode": {
    "name": "ipython",
    "version": 3
   },
   "file_extension": ".py",
   "mimetype": "text/x-python",
   "name": "python",
   "nbconvert_exporter": "python",
   "pygments_lexer": "ipython3",
   "version": "3.8.3"
  }
 },
 "nbformat": 4,
 "nbformat_minor": 4
}
