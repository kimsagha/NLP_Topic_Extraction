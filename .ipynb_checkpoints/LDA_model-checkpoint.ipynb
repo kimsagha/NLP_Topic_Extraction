{
 "cells": [
  {
   "cell_type": "markdown",
   "metadata": {},
   "source": [
    "# NLP Project\n",
    "## Topic extraction\n",
    "The purpose of this project is to extract topics from news articles."
   ]
  },
  {
   "cell_type": "markdown",
   "metadata": {},
   "source": [
    "### Step-by-step Process\n",
    "1. Find a suitable NLP model to use for topic extraction: LDA\n",
    "2. Preprocess the data\n",
    "3. Get results\n",
    "4. Documentation"
   ]
  },
  {
   "cell_type": "code",
   "execution_count": 15,
   "metadata": {},
   "outputs": [],
   "source": [
    "# import dependencies\n",
    "import pandas as pd\n",
    "from gensim.parsing.preprocessing import preprocess_string\n",
    "from gensim.parsing.preprocessing import strip_tags, strip_punctuation, strip_multiple_whitespaces, strip_numeric, remove_stopwords, strip_short, stem_text\n",
    "import gensim  # necessary?\n",
    "from gensim import corpora\n",
    "from gensim.models import Word2Vec, TfidfModel, LdaMulticore\n",
    "import spacy"
   ]
  },
  {
   "cell_type": "markdown",
   "metadata": {},
   "source": [
    "### Data Pre-processing"
   ]
  },
  {
   "cell_type": "code",
   "execution_count": 16,
   "metadata": {},
   "outputs": [
    {
     "name": "stdout",
     "output_type": "stream",
     "text": [
      "\n",
      "Data set, shape: (100, 1)\n",
      "content    0\n",
      "dtype: int64\n",
      "                                                 content\n",
      "49900  “Let us not be timid,” Paul Ryan exhorted memb...\n",
      "49901  The 115th Congress is back in session, and at ...\n",
      "49902  Don t Miss, Pop Culture Is Having a Metaphysic...\n",
      "49903  It was only eight years ago that the United St...\n",
      "49904     Toward the end of Bright Lights: Starring D...\n"
     ]
    }
   ],
   "source": [
    "# Large dataset model:\n",
    "# from sklearn.model_selection import train_test_split\n",
    "\n",
    "# # read in data\n",
    "# df_1 = pd.read_csv('Data/articles1.csv')['content'].to_frame()  # only get content-column\n",
    "# df_2 = pd.read_csv('Data/articles2.csv')['content'].to_frame()\n",
    "# df_3 = pd.read_csv('Data/articles3.csv')['content'].to_frame()\n",
    "# df = df_1.append(df_2).append(df_3)\n",
    "# print('\\nData set, shape:', df.shape)\n",
    "# print(df.head(5))\n",
    "\n",
    "# # check for missing data\n",
    "# print(df.isna().sum())  # shows no null values in content-column\n",
    "\n",
    "# # split data into ~67% training and ~33% testing\n",
    "# train, test = train_test_split(df, test_size=0.33, random_state=1)\n",
    "# print('\\nTraining data set, shape:', train.shape)\n",
    "# print('Testing data set, shape:', test.shape)\n",
    "\n",
    "# # reset indices\n",
    "# train = train.reset_index(drop=True)\n",
    "# test = test.reset_index(drop=True)\n",
    "# print(train.head(5))\n",
    "# print('\\n', test.head(5))\n",
    "\n",
    "# Small dataset model:\n",
    "# read in data\n",
    "df = pd.read_csv('Data/articles1.csv')['content'].to_frame()\n",
    "df.drop(df.index[0:49900],0,inplace=True)  # drop a few rows to make dataset smaller and more manageable\n",
    "print('\\nData set, shape:', df.shape)\n",
    "# check for missing data\n",
    "print(df.isna().sum())  # shows no null values in content-column\n",
    "print(df.head(5))"
   ]
  },
  {
   "cell_type": "markdown",
   "metadata": {},
   "source": [
    "### Pre-process the Data"
   ]
  },
  {
   "cell_type": "code",
   "execution_count": 17,
   "metadata": {},
   "outputs": [],
   "source": [
    "# load spacy nlp pre-processing pipeline to use for lemmatization\n",
    "nlp = spacy.load('en_core_web_sm')"
   ]
  },
  {
   "cell_type": "code",
   "execution_count": 18,
   "metadata": {},
   "outputs": [],
   "source": [
    "# create filter for gensim nlp pre-processing pipeline to include all steps except stemmatization\n",
    "CUSTOM_FILTERS = [lambda x: x.lower(),  # lowercase\n",
    "                  strip_tags,\n",
    "                  strip_punctuation,  # replace punctuation with whitespace\n",
    "                  strip_multiple_whitespaces,  # remove repeating whitespaces\n",
    "                  strip_numeric,  # remove numbers\n",
    "                  remove_stopwords,  # remove stopwords\n",
    "                  strip_short,  # remove words with less than 3 characters\n",
    "                  #  stem_text  # return porter-stemmed text,\n",
    "                 ]"
   ]
  },
  {
   "cell_type": "code",
   "execution_count": 19,
   "metadata": {},
   "outputs": [
    {
     "name": "stdout",
     "output_type": "stream",
     "text": [
      "Hello, my name is something you'll never guess, Kim! ...But I wrote my signature. Right! My parents called me this, what can I say?\n"
     ]
    }
   ],
   "source": [
    "sample = \"Hello, my name is something you'll never guess, Kim! ...But I wrote my signature. Right! My parents called me this, what can I say?\"\n",
    "print(sample)"
   ]
  },
  {
   "cell_type": "code",
   "execution_count": 20,
   "metadata": {},
   "outputs": [
    {
     "name": "stdout",
     "output_type": "stream",
     "text": [
      "['hello', 'guess', 'kim', 'wrote', 'signatur', 'right', 'parent', 'call']\n"
     ]
    }
   ],
   "source": [
    "# test sample string without filtered pipeline, i.e., with stemmatizer\n",
    "test_a = preprocess_string(sample)\n",
    "print(test_a)"
   ]
  },
  {
   "cell_type": "code",
   "execution_count": 21,
   "metadata": {},
   "outputs": [
    {
     "name": "stdout",
     "output_type": "stream",
     "text": [
      "['hello', 'guess', 'kim', 'write', 'signature', 'right', 'parent', 'call']\n"
     ]
    }
   ],
   "source": [
    "# test sample string with filtered pipeline and lemmatizer\n",
    "test_b = ' '.join(preprocess_string(sample, CUSTOM_FILTERS))  # pre-process without stemmatizing\n",
    "lem = [token.lemma_ for token in nlp(test_b)]  # lemmatize\n",
    "print(lem)"
   ]
  },
  {
   "cell_type": "code",
   "execution_count": 22,
   "metadata": {},
   "outputs": [],
   "source": [
    "def preprocess_articles(x):\n",
    "    prep = ' '.join(preprocess_string(x, CUSTOM_FILTERS))\n",
    "    return [token.lemma_ for token in nlp(prep)]"
   ]
  },
  {
   "cell_type": "code",
   "execution_count": 23,
   "metadata": {},
   "outputs": [],
   "source": [
    "# apply final pipeline to all data\n",
    "df['preprocessed'] = df['content'].apply(preprocess_articles)"
   ]
  },
  {
   "cell_type": "code",
   "execution_count": 24,
   "metadata": {},
   "outputs": [
    {
     "name": "stdout",
     "output_type": "stream",
     "text": [
      "49900    [\", let, timid, paul, ryan, exhort, members, h...\n",
      "49901    [congress, session, thing, look, usual, percen...\n",
      "49902    [miss, pop, culture, have, metaphysical, momen...\n",
      "49903    [year, ago, united, states, president, time, d...\n",
      "49904    [end, bright, light, star, debbie, reynolds, c...\n",
      "Name: preprocessed, dtype: object\n"
     ]
    }
   ],
   "source": [
    "# print head of preprocessed df\n",
    "print(df['preprocessed'].head(5))"
   ]
  },
  {
   "cell_type": "markdown",
   "metadata": {},
   "source": [
    "### Prepare pre-processed articles for LDA model\n",
    "#### Embed strings"
   ]
  },
  {
   "cell_type": "code",
   "execution_count": 25,
   "metadata": {},
   "outputs": [],
   "source": [
    "# create corpus: article contents embedded according to BoW-model using dictionary\n",
    "article_dict = corpora.Dictionary(df['preprocessed'])\n",
    "bow_corpus = [article_dict.doc2bow(line) for line in df['preprocessed']]\n",
    "tfidf = TfidfModel(bow_corpus)  # take term-frequency into account in bow-model\n",
    "tfidf_corpus = tfidf[bow_corpus]"
   ]
  },
  {
   "cell_type": "code",
   "execution_count": 26,
   "metadata": {},
   "outputs": [],
   "source": [
    "# model = Word2Vec(df['preprocessed'], workers=4)\n",
    "# print(model)\n",
    "# print(model.wv.most_similar(positive=['president'], topn=5))\n",
    "# model.save('model.bin')\n",
    "# model = Word2Vec.load('model.bin')"
   ]
  },
  {
   "cell_type": "markdown",
   "metadata": {},
   "source": [
    "### LDA - Topic Modelling"
   ]
  },
  {
   "cell_type": "code",
   "execution_count": 27,
   "metadata": {},
   "outputs": [],
   "source": [
    "lda_model = LdaMulticore(corpus=tfidf_corpus,\n",
    "                         id2word=article_dict,\n",
    "                         random_state=100,\n",
    "                         num_topics=100,\n",
    "                         passes=10)\n",
    "\n",
    "# save the model\n",
    "lda_model.save(\"Data/LDA_model/LDA_model\")\n",
    "# lda_model = LdaModel.load(\"Data/LDA_model/LDA_model\")"
   ]
  },
  {
   "cell_type": "code",
   "execution_count": 28,
   "metadata": {},
   "outputs": [
    {
     "data": {
      "text/plain": [
       "[(0,\n",
       "  '0.000*\"siddiqui\" + 0.000*\"marine\" + 0.000*\"elaine\" + 0.000*\"ethic\" + 0.000*\"hearing\" + 0.000*\"confirmation\" + 0.000*\"daily\" + 0.000*\"tax\" + 0.000*\"tuesday\" + 0.000*\"booker\"'),\n",
       " (1,\n",
       "  '0.000*\"runway\" + 0.000*\"sandy\" + 0.000*\"ring\" + 0.000*\"ringleader\" + 0.000*\"riot\" + 0.000*\"roar\" + 0.000*\"rooftop\" + 0.000*\"rumple\" + 0.000*\"rhode\" + 0.000*\"sand\"'),\n",
       " (2,\n",
       "  '0.000*\"runway\" + 0.000*\"sandy\" + 0.000*\"ring\" + 0.000*\"ringleader\" + 0.000*\"riot\" + 0.000*\"roar\" + 0.000*\"rooftop\" + 0.000*\"rumple\" + 0.000*\"rhode\" + 0.000*\"sand\"'),\n",
       " (3,\n",
       "  '0.007*\"amoc\" + 0.003*\"climate\" + 0.002*\"model\" + 0.002*\"ocean\" + 0.001*\"collapse\" + 0.000*\"warming\" + 0.000*\"greenland\" + 0.000*\"freshwater\" + 0.000*\"warm\" + 0.000*\"stable\"'),\n",
       " (4,\n",
       "  '0.000*\"runway\" + 0.000*\"sandy\" + 0.000*\"ring\" + 0.000*\"ringleader\" + 0.000*\"riot\" + 0.000*\"roar\" + 0.000*\"rooftop\" + 0.000*\"rumple\" + 0.000*\"rhode\" + 0.000*\"sand\"'),\n",
       " (5,\n",
       "  '0.010*\"trump\" + 0.006*\"conflict\" + 0.005*\"kunze\" + 0.005*\"business\" + 0.004*\"digital\" + 0.004*\"trust\" + 0.004*\"project\" + 0.004*\"attribution\" + 0.003*\"ethic\" + 0.003*\"hotel\"'),\n",
       " (6,\n",
       "  '0.000*\"runway\" + 0.000*\"sandy\" + 0.000*\"ring\" + 0.000*\"ringleader\" + 0.000*\"riot\" + 0.000*\"roar\" + 0.000*\"rooftop\" + 0.000*\"rumple\" + 0.000*\"rhode\" + 0.000*\"sand\"'),\n",
       " (7,\n",
       "  '0.003*\"berrill\" + 0.003*\"assault\" + 0.002*\"victim\" + 0.002*\"suspect\" + 0.002*\"lonina\" + 0.002*\"chicago\" + 0.002*\"violence\" + 0.001*\"broadcast\" + 0.001*\"police\" + 0.001*\"video\"'),\n",
       " (8,\n",
       "  '0.006*\"mma\" + 0.003*\"howley\" + 0.003*\"teacher\" + 0.002*\"sport\" + 0.002*\"condition\" + 0.002*\"fighter\" + 0.002*\"heart\" + 0.002*\"brazilian\" + 0.002*\"art\" + 0.002*\"fan\"'),\n",
       " (9,\n",
       "  '0.010*\"streep\" + 0.007*\"paterson\" + 0.006*\"hollywood\" + 0.005*\"globe\" + 0.004*\"actor\" + 0.003*\"jarmusch\" + 0.002*\"award\" + 0.002*\"film\" + 0.002*\"laurie\" + 0.002*\"association\"'),\n",
       " (10,\n",
       "  '0.000*\"runway\" + 0.000*\"sandy\" + 0.000*\"ring\" + 0.000*\"ringleader\" + 0.000*\"riot\" + 0.000*\"roar\" + 0.000*\"rooftop\" + 0.000*\"rumple\" + 0.000*\"rhode\" + 0.000*\"sand\"'),\n",
       " (11,\n",
       "  '0.000*\"runway\" + 0.000*\"sandy\" + 0.000*\"ring\" + 0.000*\"ringleader\" + 0.000*\"riot\" + 0.000*\"roar\" + 0.000*\"rooftop\" + 0.000*\"rumple\" + 0.000*\"rhode\" + 0.000*\"sand\"'),\n",
       " (12,\n",
       "  '0.000*\"runway\" + 0.000*\"sandy\" + 0.000*\"ring\" + 0.000*\"ringleader\" + 0.000*\"riot\" + 0.000*\"roar\" + 0.000*\"rooftop\" + 0.000*\"rumple\" + 0.000*\"rhode\" + 0.000*\"sand\"'),\n",
       " (13,\n",
       "  '0.004*\"debt\" + 0.002*\"loan\" + 0.002*\"fargo\" + 0.001*\"wells\" + 0.001*\"servicer\" + 0.001*\"securitize\" + 0.001*\"regulator\" + 0.001*\"diverge\" + 0.000*\"institution\" + 0.000*\"financial\"'),\n",
       " (14,\n",
       "  '0.000*\"translation\" + 0.000*\"beckinsale\" + 0.000*\"textual\" + 0.000*\"orphan\" + 0.000*\"rumi\" + 0.000*\"unfortunate\" + 0.000*\"rare\" + 0.000*\"art\" + 0.000*\"talent\" + 0.000*\"mia\"'),\n",
       " (15,\n",
       "  '0.006*\"negotiate\" + 0.005*\"liberal\" + 0.005*\"negotiation\" + 0.003*\"woman\" + 0.003*\"democracy\" + 0.002*\"faction\" + 0.002*\"orban\" + 0.002*\"gender\" + 0.002*\"salary\" + 0.001*\"worker\"'),\n",
       " (16,\n",
       "  '0.000*\"runway\" + 0.000*\"sandy\" + 0.000*\"ring\" + 0.000*\"ringleader\" + 0.000*\"riot\" + 0.000*\"roar\" + 0.000*\"rooftop\" + 0.000*\"rumple\" + 0.000*\"rhode\" + 0.000*\"sand\"'),\n",
       " (17,\n",
       "  '0.000*\"runway\" + 0.000*\"sandy\" + 0.000*\"ring\" + 0.000*\"ringleader\" + 0.000*\"riot\" + 0.000*\"roar\" + 0.000*\"rooftop\" + 0.000*\"rumple\" + 0.000*\"rhode\" + 0.000*\"sand\"'),\n",
       " (18,\n",
       "  '0.000*\"nic\" + 0.000*\"religious\" + 0.000*\"international\" + 0.000*\"superpower\" + 0.000*\"treverton\" + 0.000*\"schism\" + 0.000*\"terrorism\" + 0.000*\"dominance\" + 0.000*\"foresaw\" + 0.000*\"author\"'),\n",
       " (19,\n",
       "  '0.005*\"tillerson\" + 0.004*\"climate\" + 0.003*\"carbon\" + 0.002*\"exxon\" + 0.002*\"tax\" + 0.002*\"warming\" + 0.002*\"udall\" + 0.001*\"treaty\" + 0.000*\"global\" + 0.000*\"change\"'),\n",
       " (20,\n",
       "  '0.000*\"runway\" + 0.000*\"sandy\" + 0.000*\"ring\" + 0.000*\"ringleader\" + 0.000*\"riot\" + 0.000*\"roar\" + 0.000*\"rooftop\" + 0.000*\"rumple\" + 0.000*\"rhode\" + 0.000*\"sand\"'),\n",
       " (21,\n",
       "  '0.000*\"runway\" + 0.000*\"sandy\" + 0.000*\"ring\" + 0.000*\"ringleader\" + 0.000*\"riot\" + 0.000*\"roar\" + 0.000*\"rooftop\" + 0.000*\"rumple\" + 0.000*\"rhode\" + 0.000*\"sand\"'),\n",
       " (22,\n",
       "  '0.005*\"skuratov\" + 0.003*\"fsb\" + 0.003*\"yeltsin\" + 0.003*\"tape\" + 0.002*\"kompromat\" + 0.002*\"putin\" + 0.002*\"moomoo\" + 0.001*\"kremlin\" + 0.001*\"hatcher\" + 0.001*\"prostitute\"'),\n",
       " (23,\n",
       "  '0.007*\"information\" + 0.007*\"intelligence\" + 0.006*\"cnn\" + 0.005*\"trump\" + 0.005*\"report\" + 0.005*\"operative\" + 0.005*\"allegation\" + 0.005*\"memo\" + 0.005*\"official\" + 0.004*\"russian\"'),\n",
       " (24,\n",
       "  '0.000*\"runway\" + 0.000*\"sandy\" + 0.000*\"ring\" + 0.000*\"ringleader\" + 0.000*\"riot\" + 0.000*\"roar\" + 0.000*\"rooftop\" + 0.000*\"rumple\" + 0.000*\"rhode\" + 0.000*\"sand\"'),\n",
       " (25,\n",
       "  '0.008*\"lax\" + 0.005*\"manufacturing\" + 0.005*\"airport\" + 0.005*\"mcginty\" + 0.004*\"rodrigue\" + 0.003*\"sosa\" + 0.003*\"priest\" + 0.002*\"indiana\" + 0.002*\"silence\" + 0.002*\"scorsese\"'),\n",
       " (26,\n",
       "  '0.007*\"tillerson\" + 0.006*\"synesthesia\" + 0.005*\"color\" + 0.005*\"exxonmobil\" + 0.004*\"education\" + 0.003*\"department\" + 0.003*\"secretary\" + 0.002*\"nominate\" + 0.002*\"hud\" + 0.002*\"session\"'),\n",
       " (27,\n",
       "  '0.005*\"teacher\" + 0.005*\"urban\" + 0.003*\"student\" + 0.002*\"race\" + 0.002*\"katz\" + 0.002*\"classroom\" + 0.002*\"education\" + 0.002*\"royal\" + 0.002*\"milner\" + 0.000*\"school\"'),\n",
       " (28,\n",
       "  '0.000*\"runway\" + 0.000*\"sandy\" + 0.000*\"ring\" + 0.000*\"ringleader\" + 0.000*\"riot\" + 0.000*\"roar\" + 0.000*\"rooftop\" + 0.000*\"rumple\" + 0.000*\"rhode\" + 0.000*\"sand\"'),\n",
       " (29,\n",
       "  '0.000*\"runway\" + 0.000*\"sandy\" + 0.000*\"ring\" + 0.000*\"ringleader\" + 0.000*\"riot\" + 0.000*\"roar\" + 0.000*\"rooftop\" + 0.000*\"rumple\" + 0.000*\"rhode\" + 0.000*\"sand\"'),\n",
       " (30,\n",
       "  '0.000*\"runway\" + 0.000*\"sandy\" + 0.000*\"ring\" + 0.000*\"ringleader\" + 0.000*\"riot\" + 0.000*\"roar\" + 0.000*\"rooftop\" + 0.000*\"rumple\" + 0.000*\"rhode\" + 0.000*\"sand\"'),\n",
       " (31,\n",
       "  '0.013*\"nominee\" + 0.012*\"senate\" + 0.010*\"hearing\" + 0.010*\"ethic\" + 0.010*\"confirmation\" + 0.007*\"democrats\" + 0.006*\"mcconnell\" + 0.006*\"devos\" + 0.005*\"schedule\" + 0.005*\"committee\"'),\n",
       " (32,\n",
       "  '0.005*\"putin\" + 0.002*\"europe\" + 0.002*\"populist\" + 0.002*\"bannon\" + 0.002*\"fontaine\" + 0.002*\"european\" + 0.001*\"party\" + 0.001*\"islamic\" + 0.001*\"flynn\" + 0.001*\"western\"'),\n",
       " (33,\n",
       "  '0.000*\"moral\" + 0.000*\"streep\" + 0.000*\"celebrity\" + 0.000*\"standing\" + 0.000*\"bully\" + 0.000*\"meryl\" + 0.000*\"hollywood\" + 0.000*\"morally\" + 0.000*\"weak\" + 0.000*\"lecture\"'),\n",
       " (34,\n",
       "  '0.000*\"confirmation\" + 0.000*\"nominee\" + 0.000*\"hearing\" + 0.000*\"senate\" + 0.000*\"fox\" + 0.000*\"streep\" + 0.000*\"daily\" + 0.000*\"pond\" + 0.000*\"julia\" + 0.000*\"harwell\"'),\n",
       " (35,\n",
       "  '0.000*\"runway\" + 0.000*\"sandy\" + 0.000*\"ring\" + 0.000*\"ringleader\" + 0.000*\"riot\" + 0.000*\"roar\" + 0.000*\"rooftop\" + 0.000*\"rumple\" + 0.000*\"rhode\" + 0.000*\"sand\"'),\n",
       " (36,\n",
       "  '0.006*\"sherlock\" + 0.003*\"award\" + 0.003*\"eurus\" + 0.003*\"moonlight\" + 0.002*\"land\" + 0.002*\"episode\" + 0.002*\"trophy\" + 0.002*\"actress\" + 0.002*\"musical\" + 0.001*\"drama\"'),\n",
       " (37,\n",
       "  '0.000*\"liberal\" + 0.000*\"democracy\" + 0.000*\"orban\" + 0.000*\"living\" + 0.000*\"viktor\" + 0.000*\"elite\" + 0.000*\"faction\" + 0.000*\"correspondent\" + 0.000*\"crisis\" + 0.000*\"I\"'),\n",
       " (38,\n",
       "  '0.003*\"parent\" + 0.003*\"station\" + 0.003*\"table\" + 0.003*\"mother\" + 0.002*\"restroom\" + 0.002*\"moses\" + 0.002*\"diaper\" + 0.002*\"change\" + 0.002*\"baby\" + 0.001*\"child\"'),\n",
       " (39,\n",
       "  '0.006*\"o’brien\" + 0.003*\"conan\" + 0.003*\"tbs\" + 0.002*\"leno\" + 0.001*\"host\" + 0.001*\"weekly\" + 0.001*\"reilly\" + 0.001*\"tonight\" + 0.000*\"jimmy\" + 0.000*\"format\"'),\n",
       " (40,\n",
       "  '0.000*\"shell\" + 0.000*\"\\'\" + 0.000*\"effective\" + 0.000*\"intelligence\" + 0.000*\"nuclear\" + 0.000*\"bryan\" + 0.000*\"contractor\" + 0.000*\"jerry\" + 0.000*\"mixture\" + 0.000*\"another\"'),\n",
       " (41,\n",
       "  '0.000*\"conway\" + 0.000*\"kellyanne\" + 0.000*\"jared\" + 0.000*\"kushner\" + 0.000*\"gun\" + 0.000*\"bill\" + 0.000*\"bathroom\" + 0.000*\"confirmation\" + 0.000*\"repeal\" + 0.000*\"adam\"'),\n",
       " (42,\n",
       "  '0.000*\"runway\" + 0.000*\"sandy\" + 0.000*\"ring\" + 0.000*\"ringleader\" + 0.000*\"riot\" + 0.000*\"roar\" + 0.000*\"rooftop\" + 0.000*\"rumple\" + 0.000*\"rhode\" + 0.000*\"sand\"'),\n",
       " (43,\n",
       "  '0.008*\"kushner\" + 0.001*\"jared\" + 0.000*\"christie\" + 0.000*\"ivanka\" + 0.000*\"appointment\" + 0.000*\"nepotism\" + 0.000*\"statute\" + 0.000*\"afoul\" + 0.000*\"trump\" + 0.000*\"jersey\"'),\n",
       " (44,\n",
       "  '0.000*\"runway\" + 0.000*\"sandy\" + 0.000*\"ring\" + 0.000*\"ringleader\" + 0.000*\"riot\" + 0.000*\"roar\" + 0.000*\"rooftop\" + 0.000*\"rumple\" + 0.000*\"rhode\" + 0.000*\"sand\"'),\n",
       " (45,\n",
       "  '0.000*\"cigarette\" + 0.000*\"archaea\" + 0.000*\"advertising\" + 0.000*\"bacteria\" + 0.000*\"prohibit\" + 0.000*\"domain\" + 0.000*\"package\" + 0.000*\"cell\" + 0.000*\"scroll\" + 0.000*\"congress\"'),\n",
       " (46,\n",
       "  '0.000*\"nominee\" + 0.000*\"ethic\" + 0.000*\"mcconnell\" + 0.000*\"schedule\" + 0.000*\"letter\" + 0.000*\"senate\" + 0.000*\"shaub\" + 0.000*\"hearing\" + 0.000*\"cabinet\" + 0.000*\"review\"'),\n",
       " (47,\n",
       "  '0.005*\"overtime\" + 0.003*\"salary\" + 0.002*\"employer\" + 0.002*\"threshold\" + 0.002*\"pay\" + 0.002*\"puzder\" + 0.002*\"hesson\" + 0.002*\"university\" + 0.002*\"worker\" + 0.001*\"raise\"'),\n",
       " (48,\n",
       "  '0.000*\"runway\" + 0.000*\"sandy\" + 0.000*\"ring\" + 0.000*\"ringleader\" + 0.000*\"riot\" + 0.000*\"roar\" + 0.000*\"rooftop\" + 0.000*\"rumple\" + 0.000*\"rhode\" + 0.000*\"sand\"'),\n",
       " (49,\n",
       "  '0.000*\"runway\" + 0.000*\"sandy\" + 0.000*\"ring\" + 0.000*\"ringleader\" + 0.000*\"riot\" + 0.000*\"roar\" + 0.000*\"rooftop\" + 0.000*\"rumple\" + 0.000*\"rhode\" + 0.000*\"sand\"'),\n",
       " (50,\n",
       "  '0.008*\"repeal\" + 0.007*\"republican\" + 0.006*\"gop\" + 0.006*\"obamacare\" + 0.005*\"vote\" + 0.004*\"affordable\" + 0.003*\"replacement\" + 0.003*\"law\" + 0.003*\"delay\" + 0.002*\"budget\"'),\n",
       " (51,\n",
       "  '0.000*\"runway\" + 0.000*\"sandy\" + 0.000*\"ring\" + 0.000*\"ringleader\" + 0.000*\"riot\" + 0.000*\"roar\" + 0.000*\"rooftop\" + 0.000*\"rumple\" + 0.000*\"rhode\" + 0.000*\"sand\"'),\n",
       " (52,\n",
       "  '0.004*\"job\" + 0.004*\"committee\" + 0.003*\"labor\" + 0.003*\"market\" + 0.002*\"growth\" + 0.002*\"participation\" + 0.002*\"friday\" + 0.002*\"leak\" + 0.002*\"adp\" + 0.002*\"yildirmaz\"'),\n",
       " (53,\n",
       "  '0.000*\"runway\" + 0.000*\"sandy\" + 0.000*\"ring\" + 0.000*\"ringleader\" + 0.000*\"riot\" + 0.000*\"roar\" + 0.000*\"rooftop\" + 0.000*\"rumple\" + 0.000*\"rhode\" + 0.000*\"sand\"'),\n",
       " (54,\n",
       "  '0.005*\"nfl\" + 0.004*\"coach\" + 0.003*\"mac\" + 0.003*\"football\" + 0.003*\"teach\" + 0.002*\"audience\" + 0.002*\"sport\" + 0.002*\"hero\" + 0.002*\"latino\" + 0.002*\"student\"'),\n",
       " (55,\n",
       "  '0.006*\"luther\" + 0.006*\"sebastian\" + 0.004*\"mia\" + 0.003*\"peele\" + 0.003*\"sketch\" + 0.003*\"chazelle\" + 0.002*\"obama\" + 0.002*\"jazz\" + 0.002*\"bleep\" + 0.002*\"film\"'),\n",
       " (56,\n",
       "  '0.000*\"runway\" + 0.000*\"sandy\" + 0.000*\"ring\" + 0.000*\"ringleader\" + 0.000*\"riot\" + 0.000*\"roar\" + 0.000*\"rooftop\" + 0.000*\"rumple\" + 0.000*\"rhode\" + 0.000*\"sand\"'),\n",
       " (57,\n",
       "  '0.000*\"runway\" + 0.000*\"sandy\" + 0.000*\"ring\" + 0.000*\"ringleader\" + 0.000*\"riot\" + 0.000*\"roar\" + 0.000*\"rooftop\" + 0.000*\"rumple\" + 0.000*\"rhode\" + 0.000*\"sand\"'),\n",
       " (58,\n",
       "  '0.004*\"parasite\" + 0.004*\"tsimane\" + 0.003*\"apoe\" + 0.003*\"trumble\" + 0.003*\"variant\" + 0.002*\"mental\" + 0.002*\"beauvoir\" + 0.002*\"verb\" + 0.002*\"gene\" + 0.002*\"age\"'),\n",
       " (59,\n",
       "  '0.000*\"runway\" + 0.000*\"sandy\" + 0.000*\"ring\" + 0.000*\"ringleader\" + 0.000*\"riot\" + 0.000*\"roar\" + 0.000*\"rooftop\" + 0.000*\"rumple\" + 0.000*\"rhode\" + 0.000*\"sand\"'),\n",
       " (60,\n",
       "  '0.003*\"ford\" + 0.003*\"toyota\" + 0.002*\"mexico\" + 0.002*\"car\" + 0.002*\"factory\" + 0.001*\"company\" + 0.001*\"build\" + 0.001*\"manufacture\" + 0.000*\"plant\" + 0.000*\"corolla\"'),\n",
       " (61,\n",
       "  '0.000*\"web\" + 0.000*\"ian\" + 0.000*\"scroll\" + 0.000*\"rafsanjani\" + 0.000*\"job\" + 0.000*\"khamenei\" + 0.000*\"atlantic\" + 0.000*\"iranian\" + 0.000*\"archive\" + 0.000*\"digital\"'),\n",
       " (62,\n",
       "  '0.000*\"runway\" + 0.000*\"sandy\" + 0.000*\"ring\" + 0.000*\"ringleader\" + 0.000*\"riot\" + 0.000*\"roar\" + 0.000*\"rooftop\" + 0.000*\"rumple\" + 0.000*\"rhode\" + 0.000*\"sand\"'),\n",
       " (63,\n",
       "  '0.000*\"runway\" + 0.000*\"sandy\" + 0.000*\"ring\" + 0.000*\"ringleader\" + 0.000*\"riot\" + 0.000*\"roar\" + 0.000*\"rooftop\" + 0.000*\"rumple\" + 0.000*\"rhode\" + 0.000*\"sand\"'),\n",
       " (64,\n",
       "  '0.000*\"runway\" + 0.000*\"sandy\" + 0.000*\"ring\" + 0.000*\"ringleader\" + 0.000*\"riot\" + 0.000*\"roar\" + 0.000*\"rooftop\" + 0.000*\"rumple\" + 0.000*\"rhode\" + 0.000*\"sand\"'),\n",
       " (65,\n",
       "  '0.003*\"nomination\" + 0.002*\"pick\" + 0.002*\"mattis\" + 0.002*\"liability\" + 0.002*\"experience\" + 0.001*\"cabinet\" + 0.001*\"background\" + 0.001*\"trump\" + 0.000*\"status\" + 0.000*\"perry\"'),\n",
       " (66,\n",
       "  '0.000*\"runway\" + 0.000*\"sandy\" + 0.000*\"ring\" + 0.000*\"ringleader\" + 0.000*\"riot\" + 0.000*\"roar\" + 0.000*\"rooftop\" + 0.000*\"rumple\" + 0.000*\"rhode\" + 0.000*\"sand\"'),\n",
       " (67,\n",
       "  '0.009*\"vaccine\" + 0.005*\"mithridate\" + 0.003*\"poison\" + 0.002*\"citylab\" + 0.002*\"mithridatium\" + 0.000*\"daily\" + 0.000*\"measle\" + 0.000*\"pliny\" + 0.000*\"scroll\" + 0.000*\"drug\"'),\n",
       " (68,\n",
       "  '0.002*\"girl\" + 0.002*\"candy\" + 0.001*\"saturday\" + 0.001*\"lördagsgodis\" + 0.001*\"swede\" + 0.001*\"bolshevik\" + 0.001*\"socialism\" + 0.001*\"liquorice\" + 0.001*\"herder\" + 0.001*\"ulaanbaatar\"'),\n",
       " (69,\n",
       "  '0.000*\"runway\" + 0.000*\"sandy\" + 0.000*\"ring\" + 0.000*\"ringleader\" + 0.000*\"riot\" + 0.000*\"roar\" + 0.000*\"rooftop\" + 0.000*\"rumple\" + 0.000*\"rhode\" + 0.000*\"sand\"'),\n",
       " (70,\n",
       "  '0.003*\"technology\" + 0.003*\"archive\" + 0.002*\"white\" + 0.002*\"obama\" + 0.002*\"house\" + 0.002*\"gif\" + 0.001*\"medium\" + 0.001*\"facebook\" + 0.001*\"submission\" + 0.001*\"snapchat\"'),\n",
       " (71,\n",
       "  '0.004*\"gas\" + 0.003*\"energy\" + 0.003*\"coal\" + 0.003*\"natural\" + 0.002*\"emission\" + 0.002*\"renewable\" + 0.002*\"electricity\" + 0.002*\"solar\" + 0.001*\"investment\" + 0.001*\"inevitability\"'),\n",
       " (72,\n",
       "  '0.000*\"runway\" + 0.000*\"sandy\" + 0.000*\"ring\" + 0.000*\"ringleader\" + 0.000*\"riot\" + 0.000*\"roar\" + 0.000*\"rooftop\" + 0.000*\"rumple\" + 0.000*\"rhode\" + 0.000*\"sand\"'),\n",
       " (73,\n",
       "  '0.006*\"edison\" + 0.006*\"film\" + 0.003*\"patent\" + 0.002*\"dickson\" + 0.002*\"filmmaker\" + 0.002*\"latham\" + 0.002*\"dwan\" + 0.001*\"camera\" + 0.001*\"griffith\" + 0.001*\"biograph\"'),\n",
       " (74,\n",
       "  '0.006*\"hollingworth\" + 0.004*\"fbi\" + 0.003*\"poland\" + 0.002*\"telegraph\" + 0.002*\"rome\" + 0.002*\"scoop\" + 0.002*\"british\" + 0.002*\"organizational\" + 0.001*\"philby\" + 0.000*\"intelligence\"'),\n",
       " (75,\n",
       "  '0.005*\"credit\" + 0.005*\"delaney\" + 0.004*\"hardy\" + 0.003*\"datum\" + 0.002*\"score\" + 0.002*\"ryan\" + 0.002*\"turner\" + 0.002*\"taboo\" + 0.002*\"accountable\" + 0.002*\"nclc\"'),\n",
       " (76,\n",
       "  '0.004*\"college\" + 0.004*\"cigarette\" + 0.003*\"student\" + 0.003*\"school\" + 0.002*\"aid\" + 0.002*\"advertising\" + 0.002*\"bacteria\" + 0.002*\"archaea\" + 0.002*\"sanction\" + 0.002*\"federal\"'),\n",
       " (77,\n",
       "  '0.020*\"rafsanjani\" + 0.006*\"iran\" + 0.006*\"khamenei\" + 0.004*\"iranian\" + 0.004*\"khomeini\" + 0.004*\"jaffer\" + 0.003*\"administration\" + 0.003*\"islamic\" + 0.003*\"supreme\" + 0.003*\"torture\"'),\n",
       " (78,\n",
       "  '0.005*\"odni\" + 0.002*\"report\" + 0.002*\"appendix\" + 0.001*\"conclusion\" + 0.000*\"detailed\" + 0.000*\"classified\" + 0.000*\"russia\" + 0.000*\"russian\" + 0.000*\"accept\" + 0.000*\"intelligence\"'),\n",
       " (79,\n",
       "  '0.000*\"runway\" + 0.000*\"sandy\" + 0.000*\"ring\" + 0.000*\"ringleader\" + 0.000*\"riot\" + 0.000*\"roar\" + 0.000*\"rooftop\" + 0.000*\"rumple\" + 0.000*\"rhode\" + 0.000*\"sand\"'),\n",
       " (80,\n",
       "  '0.005*\"asteroid\" + 0.005*\"psyche\" + 0.003*\"mission\" + 0.003*\"speech\" + 0.003*\"nasa\" + 0.003*\"humphrey\" + 0.003*\"student\" + 0.002*\"campus\" + 0.002*\"injustice\" + 0.002*\"free\"'),\n",
       " (81,\n",
       "  '0.005*\"religiously\" + 0.003*\"unaffiliate\" + 0.003*\"unaffiliated\" + 0.002*\"religion\" + 0.002*\"demographic\" + 0.002*\"religious\" + 0.002*\"congress\" + 0.001*\"atheist\" + 0.001*\"underrepresented\" + 0.001*\"pollster\"'),\n",
       " (82,\n",
       "  '0.004*\"cuomo\" + 0.004*\"student\" + 0.003*\"college\" + 0.002*\"tuition\" + 0.002*\"excelsior\" + 0.002*\"free\" + 0.002*\"plan\" + 0.002*\"benefit\" + 0.002*\"scholarship\" + 0.001*\"chingos\"'),\n",
       " (83,\n",
       "  '0.004*\"transgender\" + 0.004*\"bathroom\" + 0.004*\"bill\" + 0.002*\"mast\" + 0.002*\"texas\" + 0.002*\"sex\" + 0.002*\"restroom\" + 0.002*\"kentucky\" + 0.002*\"north\" + 0.002*\"virginia\"'),\n",
       " (84,\n",
       "  '0.006*\"medicaid\" + 0.004*\"kasich\" + 0.003*\"governor\" + 0.003*\"erdogan\" + 0.003*\"turkish\" + 0.003*\"snyder\" + 0.003*\"nuclear\" + 0.002*\"ohio\" + 0.002*\"pakistan\" + 0.002*\"expansion\"'),\n",
       " (85,\n",
       "  '0.009*\"moral\" + 0.005*\"court\" + 0.004*\"unconstitutional\" + 0.003*\"temptation\" + 0.003*\"morally\" + 0.003*\"sims\" + 0.003*\"tempt\" + 0.002*\"judge\" + 0.002*\"sophie\" + 0.002*\"gilbert\"'),\n",
       " (86,\n",
       "  '0.000*\"runway\" + 0.000*\"sandy\" + 0.000*\"ring\" + 0.000*\"ringleader\" + 0.000*\"riot\" + 0.000*\"roar\" + 0.000*\"rooftop\" + 0.000*\"rumple\" + 0.000*\"rhode\" + 0.000*\"sand\"'),\n",
       " (87,\n",
       "  '0.005*\"fisher\" + 0.004*\"reynold\" + 0.002*\"bright\" + 0.002*\"reynolds\" + 0.002*\"light\" + 0.002*\"mother\" + 0.001*\"pair\" + 0.000*\"perfectly\" + 0.000*\"carrie\" + 0.000*\"scene\"'),\n",
       " (88,\n",
       "  '0.006*\"moon\" + 0.003*\"rufu\" + 0.003*\"earth\" + 0.003*\"collision\" + 0.002*\"object\" + 0.002*\"obama\" + 0.002*\"speech\" + 0.002*\"composition\" + 0.002*\"theory\" + 0.002*\"democracy\"'),\n",
       " (89,\n",
       "  '0.000*\"runway\" + 0.000*\"sandy\" + 0.000*\"ring\" + 0.000*\"ringleader\" + 0.000*\"riot\" + 0.000*\"roar\" + 0.000*\"rooftop\" + 0.000*\"rumple\" + 0.000*\"rhode\" + 0.000*\"sand\"'),\n",
       " (90,\n",
       "  '0.000*\"runway\" + 0.000*\"sandy\" + 0.000*\"ring\" + 0.000*\"ringleader\" + 0.000*\"riot\" + 0.000*\"roar\" + 0.000*\"rooftop\" + 0.000*\"rumple\" + 0.000*\"rhode\" + 0.000*\"sand\"'),\n",
       " (91,\n",
       "  '0.000*\"trump\" + 0.000*\"hotel\" + 0.000*\"novanto\" + 0.000*\"erdogan\" + 0.000*\"property\" + 0.000*\"conflict\" + 0.000*\"table\" + 0.000*\"indonesia\" + 0.000*\"business\" + 0.000*\"content\"'),\n",
       " (92,\n",
       "  '0.005*\"tariff\" + 0.003*\"import\" + 0.003*\"hamilton\" + 0.002*\"trade\" + 0.002*\"lighthizer\" + 0.002*\"steel\" + 0.002*\"export\" + 0.002*\"manufacturer\" + 0.002*\"protectionist\" + 0.002*\"barfield\"'),\n",
       " (93,\n",
       "  '0.011*\"intelligence\" + 0.010*\"hack\" + 0.009*\"russia\" + 0.009*\"russian\" + 0.004*\"cia\" + 0.003*\"cyber\" + 0.003*\"target\" + 0.002*\"official\" + 0.002*\"hacker\" + 0.002*\"wikileak\"'),\n",
       " (94,\n",
       "  '0.006*\"korea\" + 0.005*\"north\" + 0.003*\"missile\" + 0.003*\"march\" + 0.002*\"brave\" + 0.002*\"pyongyang\" + 0.002*\"willis\" + 0.002*\"icbm\" + 0.002*\"korean\" + 0.002*\"lilla\"'),\n",
       " (95,\n",
       "  '0.006*\"bank\" + 0.005*\"mnuchin\" + 0.003*\"foreclosure\" + 0.003*\"onewest\" + 0.003*\"treasury\" + 0.002*\"loan\" + 0.002*\"mortgage\" + 0.002*\"homeowner\" + 0.001*\"memo\" + 0.001*\"intelligence\"'),\n",
       " (96,\n",
       "  '0.005*\"katherine\" + 0.004*\"colorado\" + 0.003*\"hay\" + 0.003*\"session\" + 0.003*\"court\" + 0.003*\"figure\" + 0.003*\"hide\" + 0.003*\"murder\" + 0.003*\"madden\" + 0.002*\"klan\"'),\n",
       " (97,\n",
       "  '0.009*\"pain\" + 0.002*\"patient\" + 0.002*\"\\'\" + 0.000*\"chronic\" + 0.000*\"brain\" + 0.000*\"treatment\" + 0.000*\"doctor\" + 0.000*\"nerve\" + 0.000*\"mcgill\" + 0.000*\"cord\"'),\n",
       " (98,\n",
       "  '0.000*\"runway\" + 0.000*\"sandy\" + 0.000*\"ring\" + 0.000*\"ringleader\" + 0.000*\"riot\" + 0.000*\"roar\" + 0.000*\"rooftop\" + 0.000*\"rumple\" + 0.000*\"rhode\" + 0.000*\"sand\"'),\n",
       " (99,\n",
       "  '0.005*\"dossier\" + 0.004*\"buzzfeed\" + 0.004*\"document\" + 0.003*\"publish\" + 0.003*\"fake\" + 0.003*\"story\" + 0.001*\"smith\" + 0.000*\"pizzagate\" + 0.000*\"allegation\" + 0.000*\"verify\"')]"
      ]
     },
     "execution_count": 28,
     "metadata": {},
     "output_type": "execute_result"
    }
   ],
   "source": [
    "lda_model.print_topics(-1)"
   ]
  },
  {
   "cell_type": "code",
   "execution_count": null,
   "metadata": {},
   "outputs": [],
   "source": []
  },
  {
   "cell_type": "code",
   "execution_count": null,
   "metadata": {},
   "outputs": [],
   "source": []
  }
 ],
 "metadata": {
  "kernelspec": {
   "display_name": "Python 3",
   "language": "python",
   "name": "python3"
  },
  "language_info": {
   "codemirror_mode": {
    "name": "ipython",
    "version": 3
   },
   "file_extension": ".py",
   "mimetype": "text/x-python",
   "name": "python",
   "nbconvert_exporter": "python",
   "pygments_lexer": "ipython3",
   "version": "3.8.3"
  }
 },
 "nbformat": 4,
 "nbformat_minor": 4
}
